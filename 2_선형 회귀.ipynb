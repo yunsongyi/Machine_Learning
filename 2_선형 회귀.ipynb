{
 "cells": [
  {
   "cell_type": "code",
   "execution_count": 1,
   "id": "65499138",
   "metadata": {},
   "outputs": [],
   "source": [
    "import numpy as np"
   ]
  },
  {
   "cell_type": "code",
   "execution_count": 2,
   "id": "4abb6ebc",
   "metadata": {},
   "outputs": [],
   "source": [
    "perch_length = np.array(\n",
    "    [8.4, 13.7, 15.0, 16.2, 17.4, 18.0, 18.7, 19.0, 19.6, 20.0, \n",
    "     21.0, 21.0, 21.0, 21.3, 22.0, 22.0, 22.0, 22.0, 22.0, 22.5, \n",
    "     22.5, 22.7, 23.0, 23.5, 24.0, 24.0, 24.6, 25.0, 25.6, 26.5, \n",
    "     27.3, 27.5, 27.5, 27.5, 28.0, 28.7, 30.0, 32.8, 34.5, 35.0, \n",
    "     36.5, 36.0, 37.0, 37.0, 39.0, 39.0, 39.0, 40.0, 40.0, 40.0, \n",
    "     40.0, 42.0, 43.0, 43.0, 43.5, 44.0]\n",
    "     )\n",
    "perch_weight = np.array(\n",
    "    [5.9, 32.0, 40.0, 51.5, 70.0, 100.0, 78.0, 80.0, 85.0, 85.0, \n",
    "     110.0, 115.0, 125.0, 130.0, 120.0, 120.0, 130.0, 135.0, 110.0, \n",
    "     130.0, 150.0, 145.0, 150.0, 170.0, 225.0, 145.0, 188.0, 180.0, \n",
    "     197.0, 218.0, 300.0, 260.0, 265.0, 250.0, 250.0, 300.0, 320.0, \n",
    "     514.0, 556.0, 840.0, 685.0, 700.0, 700.0, 690.0, 900.0, 650.0, \n",
    "     820.0, 850.0, 900.0, 1015.0, 820.0, 1100.0, 1000.0, 1100.0, \n",
    "     1000.0, 1000.0]\n",
    "     )"
   ]
  },
  {
   "cell_type": "code",
   "execution_count": 3,
   "id": "640bdefa",
   "metadata": {},
   "outputs": [],
   "source": [
    "from sklearn.model_selection import train_test_split"
   ]
  },
  {
   "cell_type": "code",
   "execution_count": 4,
   "id": "93cc0685",
   "metadata": {},
   "outputs": [],
   "source": [
    "# 훈련데이터와 테스트 데이터 나누기\n",
    "train_input, test_input, train_target, test_target=train_test_split(perch_length, perch_weight,\n",
    "                                                                   test_size=0.2, random_state=42)"
   ]
  },
  {
   "cell_type": "code",
   "execution_count": 5,
   "id": "1a309f2a",
   "metadata": {},
   "outputs": [],
   "source": [
    "# 훈련 데이터와 테스트 데이터를 2차원 배열로 바꾸기\n",
    "train_input=train_input.reshape(-1,1)\n",
    "test_input=test_input.reshape(-1,1)"
   ]
  },
  {
   "cell_type": "code",
   "execution_count": 6,
   "id": "4bd2476e",
   "metadata": {},
   "outputs": [],
   "source": [
    "from sklearn.neighbors import KNeighborsRegressor"
   ]
  },
  {
   "cell_type": "code",
   "execution_count": 7,
   "id": "57c60273",
   "metadata": {},
   "outputs": [],
   "source": [
    "knr = KNeighborsRegressor(n_neighbors=3)"
   ]
  },
  {
   "cell_type": "code",
   "execution_count": 8,
   "id": "112d8ac2",
   "metadata": {},
   "outputs": [
    {
     "data": {
      "text/plain": [
       "KNeighborsRegressor(n_neighbors=3)"
      ]
     },
     "execution_count": 8,
     "metadata": {},
     "output_type": "execute_result"
    }
   ],
   "source": [
    "# k-최근접 이웃 회귀 모델을 훈련\n",
    "knr.fit(train_input,train_target)"
   ]
  },
  {
   "cell_type": "code",
   "execution_count": 9,
   "id": "e58b418e",
   "metadata": {},
   "outputs": [
    {
     "name": "stdout",
     "output_type": "stream",
     "text": [
      "[1033.33333333]\n"
     ]
    }
   ],
   "source": [
    "# length가 50인 물고기의 weight 예측\n",
    "print(knr.predict([[50]]))"
   ]
  },
  {
   "cell_type": "code",
   "execution_count": 10,
   "id": "bbb24a69",
   "metadata": {},
   "outputs": [],
   "source": [
    "import matplotlib.pyplot as plt"
   ]
  },
  {
   "cell_type": "code",
   "execution_count": 11,
   "id": "c52facf8",
   "metadata": {},
   "outputs": [],
   "source": [
    "# 50cm 농어의 이웃 구하기\n",
    "distances, indexes = knr.kneighbors([[50]])"
   ]
  },
  {
   "cell_type": "code",
   "execution_count": 12,
   "id": "be791329",
   "metadata": {},
   "outputs": [
    {
     "data": {
      "text/plain": [
       "<matplotlib.collections.PathCollection at 0x1b6355688b0>"
      ]
     },
     "execution_count": 12,
     "metadata": {},
     "output_type": "execute_result"
    },
    {
     "data": {
      "image/png": "[encoded data removed]",
      "text/plain": [
       "<Figure size 432x288 with 1 Axes>"
      ]
     },
     "metadata": {
      "needs_background": "light"
     },
     "output_type": "display_data"
    }
   ],
   "source": [
    "# 훈련 세트와 산점도를 그리기\n",
    "plt.scatter(train_input, train_target)"
   ]
  },
  {
   "cell_type": "code",
   "execution_count": 13,
   "id": "ea2bcca4",
   "metadata": {},
   "outputs": [
    {
     "data": {
      "text/plain": [
       "<matplotlib.collections.PathCollection at 0x1b636647e80>"
      ]
     },
     "execution_count": 13,
     "metadata": {},
     "output_type": "execute_result"
    },
    {
     "data": {
      "image/png": "[encoded data removed]",
      "text/plain": [
       "<Figure size 432x288 with 1 Axes>"
      ]
     },
     "metadata": {
      "needs_background": "light"
     },
     "output_type": "display_data"
    }
   ],
   "source": [
    "# 훈련 데이터 중에서 이웃 샘플만 다시 그리기\n",
    "plt.scatter(train_input[indexes],train_target[indexes],marker='D')"
   ]
  },
  {
   "cell_type": "code",
   "execution_count": 14,
   "id": "5c396833",
   "metadata": {},
   "outputs": [
    {
     "data": {
      "image/png": "[encoded data removed]",
      "text/plain": [
       "<Figure size 432x288 with 1 Axes>"
      ]
     },
     "metadata": {
      "needs_background": "light"
     },
     "output_type": "display_data"
    }
   ],
   "source": [
    "# 50cm 농어 데이터\n",
    "plt.scatter(50,1033,marker='^')\n",
    "plt.xlabel('length')\n",
    "plt.ylabel('weight')\n",
    "plt.show()"
   ]
  },
  {
   "cell_type": "code",
   "execution_count": 15,
   "id": "93659606",
   "metadata": {},
   "outputs": [
    {
     "data": {
      "image/png": "[encoded data removed]",
      "text/plain": [
       "<Figure size 432x288 with 1 Axes>"
      ]
     },
     "metadata": {
      "needs_background": "light"
     },
     "output_type": "display_data"
    }
   ],
   "source": [
    "# 한번에 그리기\n",
    "plt.scatter(train_input, train_target)\n",
    "\n",
    "plt.scatter(train_input[indexes],train_target[indexes],marker='D')\n",
    "\n",
    "plt.scatter(50,1033,marker='^')\n",
    "plt.xlabel('length')\n",
    "plt.ylabel('weight')\n",
    "plt.show()\n"
   ]
  },
  {
   "cell_type": "code",
   "execution_count": 16,
   "id": "8892fc20",
   "metadata": {},
   "outputs": [
    {
     "name": "stdout",
     "output_type": "stream",
     "text": [
      "1033.3333333333333\n"
     ]
    }
   ],
   "source": [
    "print(np.mean(train_target[indexes]))"
   ]
  },
  {
   "cell_type": "code",
   "execution_count": 17,
   "id": "88538d46",
   "metadata": {},
   "outputs": [
    {
     "name": "stdout",
     "output_type": "stream",
     "text": [
      "[1033.33333333]\n"
     ]
    }
   ],
   "source": [
    "print(knr.predict([[100]]))"
   ]
  },
  {
   "cell_type": "code",
   "execution_count": 18,
   "id": "27087f51",
   "metadata": {},
   "outputs": [],
   "source": [
    "# 100cm 농어의 이웃 구하기\n",
    "distances, indexes = knr.kneighbors([[100]])"
   ]
  },
  {
   "cell_type": "code",
   "execution_count": 21,
   "id": "ec4587e3",
   "metadata": {},
   "outputs": [
    {
     "data": {
      "text/plain": [
       "<matplotlib.collections.PathCollection at 0x1b6367f3130>"
      ]
     },
     "execution_count": 21,
     "metadata": {},
     "output_type": "execute_result"
    },
    {
     "data": {
      "image/png": "[encoded data removed]",
      "text/plain": [
       "<Figure size 432x288 with 1 Axes>"
      ]
     },
     "metadata": {
      "needs_background": "light"
     },
     "output_type": "display_data"
    }
   ],
   "source": [
    "# 훈련 데이터의 산점도 그리기\n",
    "plt.scatter(train_input, train_target)"
   ]
  },
  {
   "cell_type": "code",
   "execution_count": 19,
   "id": "210fd5e7",
   "metadata": {},
   "outputs": [
    {
     "data": {
      "text/plain": [
       "<matplotlib.collections.PathCollection at 0x1b6367781c0>"
      ]
     },
     "execution_count": 19,
     "metadata": {},
     "output_type": "execute_result"
    },
    {
     "data": {
      "image/png": "[encoded data removed]",
      "text/plain": [
       "<Figure size 432x288 with 1 Axes>"
      ]
     },
     "metadata": {
      "needs_background": "light"
     },
     "output_type": "display_data"
    }
   ],
   "source": [
    "# 훈련데이터 중에서 이웃 샘플만 다시 그리기\n",
    "plt.scatter(train_input[indexes], train_target[indexes], marker='D')"
   ]
  },
  {
   "cell_type": "code",
   "execution_count": 20,
   "id": "ab4c252f",
   "metadata": {},
   "outputs": [
    {
     "data": {
      "image/png": "[encoded data removed]",
      "text/plain": [
       "<Figure size 432x288 with 1 Axes>"
      ]
     },
     "metadata": {
      "needs_background": "light"
     },
     "output_type": "display_data"
    }
   ],
   "source": [
    "# 100cm 농어 데이터\n",
    "plt.scatter(100, 1033, marker='^')\n",
    "plt.xlabel('length')\n",
    "plt.ylabel('weight')\n",
    "plt.show()"
   ]
  },
  {
   "cell_type": "code",
   "execution_count": 22,
   "id": "61de5e9f",
   "metadata": {},
   "outputs": [
    {
     "data": {
      "image/png": "[encoded data removed]",
      "text/plain": [
       "<Figure size 432x288 with 1 Axes>"
      ]
     },
     "metadata": {
      "needs_background": "light"
     },
     "output_type": "display_data"
    }
   ],
   "source": [
    "plt.scatter(train_input, train_target)\n",
    "\n",
    "plt.scatter(train_input[indexes], train_target[indexes], marker='D')\n",
    "\n",
    "plt.scatter(100, 1033, marker='^')\n",
    "plt.xlabel('length')\n",
    "plt.ylabel('weight')\n",
    "plt.show()"
   ]
  },
  {
   "cell_type": "code",
   "execution_count": null,
   "id": "7a214663",
   "metadata": {},
   "outputs": [],
   "source": []
  }
 ],
 "metadata": {
  "kernelspec": {
   "display_name": "Python 3 (ipykernel)",
   "language": "python",
   "name": "python3"
  },
  "language_info": {
   "codemirror_mode": {
    "name": "ipython",
    "version": 3
   },
   "file_extension": ".py",
   "mimetype": "text/x-python",
   "name": "python",
   "nbconvert_exporter": "python",
   "pygments_lexer": "ipython3",
   "version": "3.9.7"
  }
 },
 "nbformat": 4,
 "nbformat_minor": 5
}
