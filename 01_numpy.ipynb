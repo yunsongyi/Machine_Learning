{
  "nbformat": 4,
  "nbformat_minor": 0,
  "metadata": {
    "colab": {
      "name": "00_numpy.ipynb",
      "provenance": [],
      "collapsed_sections": []
    },
    "kernelspec": {
      "name": "python3",
      "display_name": "Python 3"
    },
    "language_info": {
      "name": "python"
    }
  },
  "cells": [
    {
      "cell_type": "code",
      "execution_count": null,
      "metadata": {
        "id": "_gm4sHNPy52l"
      },
      "outputs": [],
      "source": [
        "import numpy as np"
      ]
    },
    {
      "cell_type": "markdown",
      "source": [
        "### 길이"
      ],
      "metadata": {
        "id": "s1HzEirRffy2"
      }
    },
    {
      "cell_type": "code",
      "source": [
        "I=[1,2,3,4,5]\n",
        "print(I)"
      ],
      "metadata": {
        "colab": {
          "base_uri": "https://localhost:8080/"
        },
        "id": "nJ8p5bLnzEeM",
        "outputId": "7abb9f32-402e-46b0-88d7-99b39371ff06"
      },
      "execution_count": null,
      "outputs": [
        {
          "output_type": "stream",
          "name": "stdout",
          "text": [
            "[1, 2, 3, 4, 5]\n"
          ]
        }
      ]
    },
    {
      "cell_type": "code",
      "source": [
        "len(I)"
      ],
      "metadata": {
        "colab": {
          "base_uri": "https://localhost:8080/"
        },
        "id": "mNPb7Il6fTQb",
        "outputId": "61419701-9a49-4d60-e82f-be9f3c4bc7e0"
      },
      "execution_count": null,
      "outputs": [
        {
          "output_type": "execute_result",
          "data": {
            "text/plain": [
              "5"
            ]
          },
          "metadata": {},
          "execution_count": 3
        }
      ]
    },
    {
      "cell_type": "markdown",
      "source": [
        "## 넘파이"
      ],
      "metadata": {
        "id": "MToLBrF0f3Yj"
      }
    },
    {
      "cell_type": "code",
      "source": [
        "a=np.arange(12)\n",
        "print(a.shape)\n",
        "print(a)"
      ],
      "metadata": {
        "colab": {
          "base_uri": "https://localhost:8080/"
        },
        "id": "9LTdGGpzf1cC",
        "outputId": "5559e130-f8e1-43f7-d26f-6d28da60ed9e"
      },
      "execution_count": null,
      "outputs": [
        {
          "output_type": "stream",
          "name": "stdout",
          "text": [
            "(12,)\n",
            "[ 0  1  2  3  4  5  6  7  8  9 10 11]\n"
          ]
        }
      ]
    },
    {
      "cell_type": "code",
      "source": [
        "a=np.arange(12)\n",
        "a"
      ],
      "metadata": {
        "colab": {
          "base_uri": "https://localhost:8080/"
        },
        "id": "Z5vs7xzNzh3U",
        "outputId": "d9fecf56-6c99-4bdd-a914-0601c1efa8a4"
      },
      "execution_count": null,
      "outputs": [
        {
          "output_type": "execute_result",
          "data": {
            "text/plain": [
              "array([ 0,  1,  2,  3,  4,  5,  6,  7,  8,  9, 10, 11])"
            ]
          },
          "metadata": {},
          "execution_count": 5
        }
      ]
    },
    {
      "cell_type": "code",
      "source": [
        "print(a[5])"
      ],
      "metadata": {
        "colab": {
          "base_uri": "https://localhost:8080/"
        },
        "id": "a9N15K7Rzh1Z",
        "outputId": "66c90dd5-6023-4440-cd41-d1bb0a1491ef"
      },
      "execution_count": null,
      "outputs": [
        {
          "output_type": "stream",
          "name": "stdout",
          "text": [
            "5\n"
          ]
        }
      ]
    },
    {
      "cell_type": "markdown",
      "source": [
        "### 슬라이싱"
      ],
      "metadata": {
        "id": "i_9W9cj9II3r"
      }
    },
    {
      "cell_type": "code",
      "source": [
        "print(a[:])"
      ],
      "metadata": {
        "colab": {
          "base_uri": "https://localhost:8080/"
        },
        "id": "AheYNl0D-_-I",
        "outputId": "4f2d2f06-bee3-47b9-9411-ece08d4f849d"
      },
      "execution_count": null,
      "outputs": [
        {
          "output_type": "stream",
          "name": "stdout",
          "text": [
            "[ 0  1  2  3  4  5  6  7  8  9 10 11]\n"
          ]
        }
      ]
    },
    {
      "cell_type": "code",
      "source": [
        "print(a[3:7])"
      ],
      "metadata": {
        "colab": {
          "base_uri": "https://localhost:8080/"
        },
        "id": "1XdhjXRfzhzc",
        "outputId": "9a80cfac-b170-4a73-aac6-01edac9fa341"
      },
      "execution_count": null,
      "outputs": [
        {
          "output_type": "stream",
          "name": "stdout",
          "text": [
            "[3 4 5 6]\n"
          ]
        }
      ]
    },
    {
      "cell_type": "code",
      "source": [
        "print(a[:7]) "
      ],
      "metadata": {
        "colab": {
          "base_uri": "https://localhost:8080/"
        },
        "id": "onv-pUuNzhxO",
        "outputId": "52e77af2-c48a-4728-a9e9-2696703aff9e"
      },
      "execution_count": null,
      "outputs": [
        {
          "output_type": "stream",
          "name": "stdout",
          "text": [
            "[0 1 2 3 4 5 6]\n"
          ]
        }
      ]
    },
    {
      "cell_type": "code",
      "source": [
        "print(a[3:])"
      ],
      "metadata": {
        "colab": {
          "base_uri": "https://localhost:8080/"
        },
        "id": "ROiet9O3zhvF",
        "outputId": "fe432a93-405c-463d-9a7b-021d63658acb"
      },
      "execution_count": null,
      "outputs": [
        {
          "output_type": "stream",
          "name": "stdout",
          "text": [
            "[ 3  4  5  6  7  8  9 10 11]\n"
          ]
        }
      ]
    },
    {
      "cell_type": "code",
      "source": [
        "print(a[3:9:2])"
      ],
      "metadata": {
        "colab": {
          "base_uri": "https://localhost:8080/"
        },
        "id": "7EAZZB21zhtD",
        "outputId": "dda3519c-8ed1-4693-9a0c-b94d13b10eb1"
      },
      "execution_count": null,
      "outputs": [
        {
          "output_type": "stream",
          "name": "stdout",
          "text": [
            "[3 5 7]\n"
          ]
        }
      ]
    },
    {
      "cell_type": "code",
      "source": [
        "print(a[3:8:3])"
      ],
      "metadata": {
        "colab": {
          "base_uri": "https://localhost:8080/"
        },
        "id": "l7WeG38zzhrC",
        "outputId": "69367a77-d0e0-4bcc-f963-68ba4939bff0"
      },
      "execution_count": null,
      "outputs": [
        {
          "output_type": "stream",
          "name": "stdout",
          "text": [
            "[3 6]\n"
          ]
        }
      ]
    },
    {
      "cell_type": "code",
      "source": [
        "print(a[::-1])"
      ],
      "metadata": {
        "colab": {
          "base_uri": "https://localhost:8080/"
        },
        "id": "irjsiiCZ_Exa",
        "outputId": "ddb03f78-c830-4d21-fcaa-4e5566e6a964"
      },
      "execution_count": null,
      "outputs": [
        {
          "output_type": "stream",
          "name": "stdout",
          "text": [
            "[11 10  9  8  7  6  5  4  3  2  1  0]\n"
          ]
        }
      ]
    },
    {
      "cell_type": "code",
      "source": [
        "print(a[7:2:-1])"
      ],
      "metadata": {
        "colab": {
          "base_uri": "https://localhost:8080/"
        },
        "id": "sB1CxE8Vzho2",
        "outputId": "bd764270-63c2-4a84-f754-e72ccf39509f"
      },
      "execution_count": null,
      "outputs": [
        {
          "output_type": "stream",
          "name": "stdout",
          "text": [
            "[7 6 5 4 3]\n"
          ]
        }
      ]
    },
    {
      "cell_type": "code",
      "source": [
        "print(a[::2])"
      ],
      "metadata": {
        "colab": {
          "base_uri": "https://localhost:8080/"
        },
        "id": "wbOHeDOwzhiR",
        "outputId": "b02227d4-51c5-43fc-8fce-3bf1cf5aee15"
      },
      "execution_count": null,
      "outputs": [
        {
          "output_type": "stream",
          "name": "stdout",
          "text": [
            "[ 0  2  4  6  8 10]\n"
          ]
        }
      ]
    },
    {
      "cell_type": "code",
      "source": [
        "print(a[::-2])"
      ],
      "metadata": {
        "colab": {
          "base_uri": "https://localhost:8080/"
        },
        "id": "btQqPGqU_HxE",
        "outputId": "4a0a3ae4-9ad6-4ca2-cf7f-897f1199623c"
      },
      "execution_count": null,
      "outputs": [
        {
          "output_type": "stream",
          "name": "stdout",
          "text": [
            "[11  9  7  5  3  1]\n"
          ]
        }
      ]
    },
    {
      "cell_type": "code",
      "source": [
        "print(a[1::2])"
      ],
      "metadata": {
        "colab": {
          "base_uri": "https://localhost:8080/"
        },
        "id": "TxD6IhOE_HsX",
        "outputId": "c6da5540-078a-4e27-9bba-ea53099b5da8"
      },
      "execution_count": null,
      "outputs": [
        {
          "output_type": "stream",
          "name": "stdout",
          "text": [
            "[ 1  3  5  7  9 11]\n"
          ]
        }
      ]
    },
    {
      "cell_type": "code",
      "source": [
        "print(a[10::-2])"
      ],
      "metadata": {
        "colab": {
          "base_uri": "https://localhost:8080/"
        },
        "id": "-aea38b__HoC",
        "outputId": "ac8c06ad-c69f-489e-c5b8-833f2149ddf4"
      },
      "execution_count": null,
      "outputs": [
        {
          "output_type": "stream",
          "name": "stdout",
          "text": [
            "[10  8  6  4  2  0]\n"
          ]
        }
      ]
    },
    {
      "cell_type": "code",
      "source": [
        "a[::2]= -1\n",
        "print(a)"
      ],
      "metadata": {
        "colab": {
          "base_uri": "https://localhost:8080/"
        },
        "id": "cTPJY2Jq_mZy",
        "outputId": "f7d9788e-3ea2-47d4-bbf5-b0d340372e19"
      },
      "execution_count": null,
      "outputs": [
        {
          "output_type": "stream",
          "name": "stdout",
          "text": [
            "[-1  1 -1  3 -1  5 -1  7 -1  9 -1 11]\n"
          ]
        }
      ]
    },
    {
      "cell_type": "code",
      "source": [
        "a=np.arange(12)\n",
        "print(a)\n",
        "a[1::2]=-1\n",
        "print(a)"
      ],
      "metadata": {
        "colab": {
          "base_uri": "https://localhost:8080/"
        },
        "id": "UJFHyr_T_sOs",
        "outputId": "7da2305e-5770-4c84-a385-7269bb5ceb0f"
      },
      "execution_count": null,
      "outputs": [
        {
          "output_type": "stream",
          "name": "stdout",
          "text": [
            "[ 0  1  2  3  4  5  6  7  8  9 10 11]\n",
            "[ 0 -1  2 -1  4 -1  6 -1  8 -1 10 -1]\n"
          ]
        }
      ]
    },
    {
      "cell_type": "markdown",
      "source": [
        "## 넘파이 재배열"
      ],
      "metadata": {
        "id": "6HZri9fvfnvJ"
      }
    },
    {
      "cell_type": "code",
      "source": [
        "a=np.arange(12).reshape(3,4)\n",
        "print(a)"
      ],
      "metadata": {
        "colab": {
          "base_uri": "https://localhost:8080/"
        },
        "id": "XbcaGtZxfV7a",
        "outputId": "11b57f9f-9f8e-4418-a049-b3cd4c05fbba"
      },
      "execution_count": null,
      "outputs": [
        {
          "output_type": "stream",
          "name": "stdout",
          "text": [
            "[[ 0  1  2  3]\n",
            " [ 4  5  6  7]\n",
            " [ 8  9 10 11]]\n"
          ]
        }
      ]
    },
    {
      "cell_type": "code",
      "source": [
        "print(a.shape)"
      ],
      "metadata": {
        "colab": {
          "base_uri": "https://localhost:8080/"
        },
        "id": "H5Ytp9ecfxOA",
        "outputId": "9cfec4d0-789e-4e4e-fd17-df2a205c7069"
      },
      "execution_count": null,
      "outputs": [
        {
          "output_type": "stream",
          "name": "stdout",
          "text": [
            "(3, 4)\n"
          ]
        }
      ]
    },
    {
      "cell_type": "markdown",
      "source": [
        "### reshape\n",
        "재배열"
      ],
      "metadata": {
        "id": "mw9JcdZREgHD"
      }
    },
    {
      "cell_type": "code",
      "source": [
        "a=np.arange(24).reshape((2,3,4))\n",
        "print(a)\n",
        "print(a.shape)"
      ],
      "metadata": {
        "colab": {
          "base_uri": "https://localhost:8080/"
        },
        "id": "rAfwoLFFfxQJ",
        "outputId": "f545fd42-b24a-4d2a-f143-86fc08b4ce79"
      },
      "execution_count": null,
      "outputs": [
        {
          "output_type": "stream",
          "name": "stdout",
          "text": [
            "[[[ 0  1  2  3]\n",
            "  [ 4  5  6  7]\n",
            "  [ 8  9 10 11]]\n",
            "\n",
            " [[12 13 14 15]\n",
            "  [16 17 18 19]\n",
            "  [20 21 22 23]]]\n",
            "(2, 3, 4)\n"
          ]
        }
      ]
    },
    {
      "cell_type": "code",
      "source": [
        "a=np.arange(24).reshape(-1,2,4)\n",
        "print(a)\n",
        "print(a.shape)"
      ],
      "metadata": {
        "colab": {
          "base_uri": "https://localhost:8080/"
        },
        "id": "ZsQCHTLdfxTg",
        "outputId": "3f6a6b40-50de-4456-90c3-acb8316d0ed3"
      },
      "execution_count": null,
      "outputs": [
        {
          "output_type": "stream",
          "name": "stdout",
          "text": [
            "[[[ 0  1  2  3]\n",
            "  [ 4  5  6  7]]\n",
            "\n",
            " [[ 8  9 10 11]\n",
            "  [12 13 14 15]]\n",
            "\n",
            " [[16 17 18 19]\n",
            "  [20 21 22 23]]]\n",
            "(3, 2, 4)\n"
          ]
        }
      ]
    },
    {
      "cell_type": "markdown",
      "source": [
        "#### expand_dims\n",
        "\n",
        "차원 확장"
      ],
      "metadata": {
        "id": "sVksQHR7Ekbw"
      }
    },
    {
      "cell_type": "code",
      "source": [
        "a = np.arange(6).reshape((2,3))\n",
        "print(a)\n",
        "print(a.shape)\n",
        "\n",
        "# 첫번째 차원을 추가하여 확장\n",
        "a = np.expand_dims(a, axis=0)\n",
        "print(a)\n",
        "print(a.shape)\n",
        "\n",
        "# 두번째 차원을 추가하여 확장\n",
        "a = np.arange(6).reshape((2,3))\n",
        "a = np.expand_dims(a, axis=1)\n",
        "print(a)\n",
        "print(a.shape)\n",
        "\n",
        "# 세번째 차원을 추가하여 확장\n",
        "a = np.arange(6).reshape((2,3))\n",
        "a = np.expand_dims(a, axis=2)\n",
        "print(a)\n",
        "print(a.shape)"
      ],
      "metadata": {
        "colab": {
          "base_uri": "https://localhost:8080/"
        },
        "id": "NVWXUmjSEpfq",
        "outputId": "6d7836a0-03e1-476a-bbcb-b8d9e413d357"
      },
      "execution_count": 62,
      "outputs": [
        {
          "output_type": "stream",
          "name": "stdout",
          "text": [
            "[[0 1 2]\n",
            " [3 4 5]]\n",
            "(2, 3)\n",
            "[[[0 1 2]\n",
            "  [3 4 5]]]\n",
            "(1, 2, 3)\n",
            "[[[0 1 2]]\n",
            "\n",
            " [[3 4 5]]]\n",
            "(2, 1, 3)\n",
            "[[[0]\n",
            "  [1]\n",
            "  [2]]\n",
            "\n",
            " [[3]\n",
            "  [4]\n",
            "  [5]]]\n",
            "(2, 3, 1)\n"
          ]
        }
      ]
    },
    {
      "cell_type": "markdown",
      "source": [
        "#### squeeze\n",
        "\n",
        "필요없는 차원 없애기\n",
        "\n",
        "*길이가 1인 축 없애기*"
      ],
      "metadata": {
        "id": "wT7Qpie3FfCE"
      }
    },
    {
      "cell_type": "code",
      "source": [
        "a = np.arange(12).reshape((1,3,4))\n",
        "print(a)\n",
        "print(a.shape)\n",
        "a = np.squeeze(a)\n",
        "print(a)\n",
        "print(a.shape)"
      ],
      "metadata": {
        "colab": {
          "base_uri": "https://localhost:8080/"
        },
        "id": "X00_G2YTFkBI",
        "outputId": "836f537b-5da1-41b8-c58f-2687dd31ae9d"
      },
      "execution_count": 63,
      "outputs": [
        {
          "output_type": "stream",
          "name": "stdout",
          "text": [
            "[[[ 0  1  2  3]\n",
            "  [ 4  5  6  7]\n",
            "  [ 8  9 10 11]]]\n",
            "(1, 3, 4)\n",
            "[[ 0  1  2  3]\n",
            " [ 4  5  6  7]\n",
            " [ 8  9 10 11]]\n",
            "(3, 4)\n"
          ]
        }
      ]
    },
    {
      "cell_type": "code",
      "source": [
        "a = np.arange(12).reshape((1,3,1,4))\n",
        "print(a)\n",
        "print(a.shape)\n",
        "a = np.squeeze(a)\n",
        "print(a)\n",
        "print(a.shape)"
      ],
      "metadata": {
        "colab": {
          "base_uri": "https://localhost:8080/"
        },
        "id": "yVwPeYDoFknF",
        "outputId": "916492fd-0dc4-40c0-fc9f-edd5ebcd94d9"
      },
      "execution_count": 64,
      "outputs": [
        {
          "output_type": "stream",
          "name": "stdout",
          "text": [
            "[[[[ 0  1  2  3]]\n",
            "\n",
            "  [[ 4  5  6  7]]\n",
            "\n",
            "  [[ 8  9 10 11]]]]\n",
            "(1, 3, 1, 4)\n",
            "[[ 0  1  2  3]\n",
            " [ 4  5  6  7]\n",
            " [ 8  9 10 11]]\n",
            "(3, 4)\n"
          ]
        }
      ]
    },
    {
      "cell_type": "code",
      "source": [
        "a = np.arange(12).reshape((1,3,1,4))\n",
        "a = np.squeeze(a, axis=0)\n",
        "print(a.shape)"
      ],
      "metadata": {
        "colab": {
          "base_uri": "https://localhost:8080/"
        },
        "id": "R0lnmnaMHITW",
        "outputId": "73890b85-1c0b-4f62-c1f4-8620e5826713"
      },
      "execution_count": 66,
      "outputs": [
        {
          "output_type": "stream",
          "name": "stdout",
          "text": [
            "(3, 1, 4)\n"
          ]
        }
      ]
    },
    {
      "cell_type": "code",
      "source": [
        "# 오류\n",
        "a = np.arange(12).reshape((1,3,1,4))\n",
        "a = np.squeeze(a, axis=1)\n",
        "print(a.shape)"
      ],
      "metadata": {
        "colab": {
          "base_uri": "https://localhost:8080/",
          "height": 374
        },
        "id": "8MO5tqTsHSMa",
        "outputId": "8513853c-2903-4bb6-a6d7-5a84ef500564"
      },
      "execution_count": 69,
      "outputs": [
        {
          "output_type": "error",
          "ename": "ValueError",
          "evalue": "ignored",
          "traceback": [
            "\u001b[0;31m---------------------------------------------------------------------------\u001b[0m",
            "\u001b[0;31mValueError\u001b[0m                                Traceback (most recent call last)",
            "\u001b[0;32m<ipython-input-69-af89155bc723>\u001b[0m in \u001b[0;36m<module>\u001b[0;34m()\u001b[0m\n\u001b[1;32m      1\u001b[0m \u001b[0ma\u001b[0m \u001b[0;34m=\u001b[0m \u001b[0mnp\u001b[0m\u001b[0;34m.\u001b[0m\u001b[0marange\u001b[0m\u001b[0;34m(\u001b[0m\u001b[0;36m12\u001b[0m\u001b[0;34m)\u001b[0m\u001b[0;34m.\u001b[0m\u001b[0mreshape\u001b[0m\u001b[0;34m(\u001b[0m\u001b[0;34m(\u001b[0m\u001b[0;36m1\u001b[0m\u001b[0;34m,\u001b[0m\u001b[0;36m3\u001b[0m\u001b[0;34m,\u001b[0m\u001b[0;36m1\u001b[0m\u001b[0;34m,\u001b[0m\u001b[0;36m4\u001b[0m\u001b[0;34m)\u001b[0m\u001b[0;34m)\u001b[0m\u001b[0;34m\u001b[0m\u001b[0;34m\u001b[0m\u001b[0m\n\u001b[0;32m----> 2\u001b[0;31m \u001b[0ma\u001b[0m \u001b[0;34m=\u001b[0m \u001b[0mnp\u001b[0m\u001b[0;34m.\u001b[0m\u001b[0msqueeze\u001b[0m\u001b[0;34m(\u001b[0m\u001b[0ma\u001b[0m\u001b[0;34m,\u001b[0m \u001b[0maxis\u001b[0m\u001b[0;34m=\u001b[0m\u001b[0;36m1\u001b[0m\u001b[0;34m)\u001b[0m\u001b[0;34m\u001b[0m\u001b[0;34m\u001b[0m\u001b[0m\n\u001b[0m\u001b[1;32m      3\u001b[0m \u001b[0mprint\u001b[0m\u001b[0;34m(\u001b[0m\u001b[0ma\u001b[0m\u001b[0;34m.\u001b[0m\u001b[0mshape\u001b[0m\u001b[0;34m)\u001b[0m\u001b[0;34m\u001b[0m\u001b[0;34m\u001b[0m\u001b[0m\n",
            "\u001b[0;32m<__array_function__ internals>\u001b[0m in \u001b[0;36msqueeze\u001b[0;34m(*args, **kwargs)\u001b[0m\n",
            "\u001b[0;32m/usr/local/lib/python3.7/dist-packages/numpy/core/fromnumeric.py\u001b[0m in \u001b[0;36msqueeze\u001b[0;34m(a, axis)\u001b[0m\n\u001b[1;32m   1493\u001b[0m         \u001b[0;32mreturn\u001b[0m \u001b[0msqueeze\u001b[0m\u001b[0;34m(\u001b[0m\u001b[0;34m)\u001b[0m\u001b[0;34m\u001b[0m\u001b[0;34m\u001b[0m\u001b[0m\n\u001b[1;32m   1494\u001b[0m     \u001b[0;32melse\u001b[0m\u001b[0;34m:\u001b[0m\u001b[0;34m\u001b[0m\u001b[0;34m\u001b[0m\u001b[0m\n\u001b[0;32m-> 1495\u001b[0;31m         \u001b[0;32mreturn\u001b[0m \u001b[0msqueeze\u001b[0m\u001b[0;34m(\u001b[0m\u001b[0maxis\u001b[0m\u001b[0;34m=\u001b[0m\u001b[0maxis\u001b[0m\u001b[0;34m)\u001b[0m\u001b[0;34m\u001b[0m\u001b[0;34m\u001b[0m\u001b[0m\n\u001b[0m\u001b[1;32m   1496\u001b[0m \u001b[0;34m\u001b[0m\u001b[0m\n\u001b[1;32m   1497\u001b[0m \u001b[0;34m\u001b[0m\u001b[0m\n",
            "\u001b[0;31mValueError\u001b[0m: cannot select an axis to squeeze out which has size not equal to one"
          ]
        }
      ]
    },
    {
      "cell_type": "code",
      "source": [
        "a = np.arange(12).reshape((1,3,1,4))\n",
        "a = np.squeeze(a, axis=2)\n",
        "print(a.shape)"
      ],
      "metadata": {
        "colab": {
          "base_uri": "https://localhost:8080/"
        },
        "id": "N7fI45aYHKsw",
        "outputId": "19802dcd-66d0-4fff-e01d-5d858cb72f9d"
      },
      "execution_count": 68,
      "outputs": [
        {
          "output_type": "stream",
          "name": "stdout",
          "text": [
            "(1, 3, 4)\n"
          ]
        }
      ]
    },
    {
      "cell_type": "code",
      "source": [
        "# 오류\n",
        "a = np.arange(12).reshape((1,3,1,4))\n",
        "a = np.squeeze(a, axis=3)\n",
        "print(a.shape)"
      ],
      "metadata": {
        "colab": {
          "base_uri": "https://localhost:8080/",
          "height": 374
        },
        "id": "7HHRpNTWJkni",
        "outputId": "8c4021ac-1d95-400b-de83-98107e150cbd"
      },
      "execution_count": 70,
      "outputs": [
        {
          "output_type": "error",
          "ename": "ValueError",
          "evalue": "ignored",
          "traceback": [
            "\u001b[0;31m---------------------------------------------------------------------------\u001b[0m",
            "\u001b[0;31mValueError\u001b[0m                                Traceback (most recent call last)",
            "\u001b[0;32m<ipython-input-70-d30bc9497c2b>\u001b[0m in \u001b[0;36m<module>\u001b[0;34m()\u001b[0m\n\u001b[1;32m      1\u001b[0m \u001b[0ma\u001b[0m \u001b[0;34m=\u001b[0m \u001b[0mnp\u001b[0m\u001b[0;34m.\u001b[0m\u001b[0marange\u001b[0m\u001b[0;34m(\u001b[0m\u001b[0;36m12\u001b[0m\u001b[0;34m)\u001b[0m\u001b[0;34m.\u001b[0m\u001b[0mreshape\u001b[0m\u001b[0;34m(\u001b[0m\u001b[0;34m(\u001b[0m\u001b[0;36m1\u001b[0m\u001b[0;34m,\u001b[0m\u001b[0;36m3\u001b[0m\u001b[0;34m,\u001b[0m\u001b[0;36m1\u001b[0m\u001b[0;34m,\u001b[0m\u001b[0;36m4\u001b[0m\u001b[0;34m)\u001b[0m\u001b[0;34m)\u001b[0m\u001b[0;34m\u001b[0m\u001b[0;34m\u001b[0m\u001b[0m\n\u001b[0;32m----> 2\u001b[0;31m \u001b[0ma\u001b[0m \u001b[0;34m=\u001b[0m \u001b[0mnp\u001b[0m\u001b[0;34m.\u001b[0m\u001b[0msqueeze\u001b[0m\u001b[0;34m(\u001b[0m\u001b[0ma\u001b[0m\u001b[0;34m,\u001b[0m \u001b[0maxis\u001b[0m\u001b[0;34m=\u001b[0m\u001b[0;36m3\u001b[0m\u001b[0;34m)\u001b[0m\u001b[0;34m\u001b[0m\u001b[0;34m\u001b[0m\u001b[0m\n\u001b[0m\u001b[1;32m      3\u001b[0m \u001b[0mprint\u001b[0m\u001b[0;34m(\u001b[0m\u001b[0ma\u001b[0m\u001b[0;34m.\u001b[0m\u001b[0mshape\u001b[0m\u001b[0;34m)\u001b[0m\u001b[0;34m\u001b[0m\u001b[0;34m\u001b[0m\u001b[0m\n",
            "\u001b[0;32m<__array_function__ internals>\u001b[0m in \u001b[0;36msqueeze\u001b[0;34m(*args, **kwargs)\u001b[0m\n",
            "\u001b[0;32m/usr/local/lib/python3.7/dist-packages/numpy/core/fromnumeric.py\u001b[0m in \u001b[0;36msqueeze\u001b[0;34m(a, axis)\u001b[0m\n\u001b[1;32m   1493\u001b[0m         \u001b[0;32mreturn\u001b[0m \u001b[0msqueeze\u001b[0m\u001b[0;34m(\u001b[0m\u001b[0;34m)\u001b[0m\u001b[0;34m\u001b[0m\u001b[0;34m\u001b[0m\u001b[0m\n\u001b[1;32m   1494\u001b[0m     \u001b[0;32melse\u001b[0m\u001b[0;34m:\u001b[0m\u001b[0;34m\u001b[0m\u001b[0;34m\u001b[0m\u001b[0m\n\u001b[0;32m-> 1495\u001b[0;31m         \u001b[0;32mreturn\u001b[0m \u001b[0msqueeze\u001b[0m\u001b[0;34m(\u001b[0m\u001b[0maxis\u001b[0m\u001b[0;34m=\u001b[0m\u001b[0maxis\u001b[0m\u001b[0;34m)\u001b[0m\u001b[0;34m\u001b[0m\u001b[0;34m\u001b[0m\u001b[0m\n\u001b[0m\u001b[1;32m   1496\u001b[0m \u001b[0;34m\u001b[0m\u001b[0m\n\u001b[1;32m   1497\u001b[0m \u001b[0;34m\u001b[0m\u001b[0m\n",
            "\u001b[0;31mValueError\u001b[0m: cannot select an axis to squeeze out which has size not equal to one"
          ]
        }
      ]
    },
    {
      "cell_type": "markdown",
      "source": [
        "### 전치"
      ],
      "metadata": {
        "id": "pBpFIN3VG45Z"
      }
    },
    {
      "cell_type": "code",
      "source": [
        "a = np.arange(12).reshape((3,4))\n",
        "print(a)\n",
        "print(a.shape)\n",
        "print(a.T)\n",
        "print(a.T.shape)"
      ],
      "metadata": {
        "colab": {
          "base_uri": "https://localhost:8080/"
        },
        "id": "AtkaNHE0FkcJ",
        "outputId": "a1e1119d-ab98-4ef5-bcd2-ee7233859d19"
      },
      "execution_count": 65,
      "outputs": [
        {
          "output_type": "stream",
          "name": "stdout",
          "text": [
            "[[ 0  1  2  3]\n",
            " [ 4  5  6  7]\n",
            " [ 8  9 10 11]]\n",
            "(3, 4)\n",
            "[[ 0  4  8]\n",
            " [ 1  5  9]\n",
            " [ 2  6 10]\n",
            " [ 3  7 11]]\n",
            "(4, 3)\n"
          ]
        }
      ]
    },
    {
      "cell_type": "markdown",
      "source": [
        "### 넘파이 재배열 뽑아내기"
      ],
      "metadata": {
        "id": "TZXQf4q7BRhF"
      }
    },
    {
      "cell_type": "code",
      "source": [
        "a= np.arange(24).reshape(4,6)\n",
        "print(a)\n",
        "print(a[1:3,1:5])"
      ],
      "metadata": {
        "colab": {
          "base_uri": "https://localhost:8080/"
        },
        "id": "8kZpUQ4D_iwf",
        "outputId": "4dc66292-726f-4e80-9180-3de1e6c24f90"
      },
      "execution_count": null,
      "outputs": [
        {
          "output_type": "stream",
          "name": "stdout",
          "text": [
            "[[ 0  1  2  3  4  5]\n",
            " [ 6  7  8  9 10 11]\n",
            " [12 13 14 15 16 17]\n",
            " [18 19 20 21 22 23]]\n",
            "[[ 7  8  9 10]\n",
            " [13 14 15 16]]\n"
          ]
        }
      ]
    },
    {
      "cell_type": "code",
      "source": [
        "a=np.ones((4,7))\n",
        "print(a)\n",
        "a[1:3,1::2]=0\n",
        "print(a)"
      ],
      "metadata": {
        "colab": {
          "base_uri": "https://localhost:8080/"
        },
        "id": "wlg2Wo0M_iuR",
        "outputId": "26877443-12a9-4d24-c63b-5755578213bb"
      },
      "execution_count": null,
      "outputs": [
        {
          "output_type": "stream",
          "name": "stdout",
          "text": [
            "[[1. 1. 1. 1. 1. 1. 1.]\n",
            " [1. 1. 1. 1. 1. 1. 1.]\n",
            " [1. 1. 1. 1. 1. 1. 1.]\n",
            " [1. 1. 1. 1. 1. 1. 1.]]\n",
            "[[1. 1. 1. 1. 1. 1. 1.]\n",
            " [1. 0. 1. 0. 1. 0. 1.]\n",
            " [1. 0. 1. 0. 1. 0. 1.]\n",
            " [1. 1. 1. 1. 1. 1. 1.]]\n"
          ]
        }
      ]
    },
    {
      "cell_type": "markdown",
      "source": [
        "## 넘파이 함수"
      ],
      "metadata": {
        "id": "WsWte7JBgNwI"
      }
    },
    {
      "cell_type": "code",
      "source": [
        "a=np.arange(4)+2\n",
        "\n",
        "print(a)"
      ],
      "metadata": {
        "colab": {
          "base_uri": "https://localhost:8080/"
        },
        "id": "IKvyorDZuckf",
        "outputId": "418ae9c7-4063-4986-ba46-a64af55bb045"
      },
      "execution_count": null,
      "outputs": [
        {
          "output_type": "stream",
          "name": "stdout",
          "text": [
            "[2 3 4 5]\n"
          ]
        }
      ]
    },
    {
      "cell_type": "code",
      "source": [
        "a=np.zeros((3,4))\n",
        "print(a)"
      ],
      "metadata": {
        "colab": {
          "base_uri": "https://localhost:8080/"
        },
        "id": "ZRyPOlZMfxVx",
        "outputId": "f9f5bb7f-16bd-43c9-b7fb-9cf5d274705d"
      },
      "execution_count": null,
      "outputs": [
        {
          "output_type": "stream",
          "name": "stdout",
          "text": [
            "[[0. 0. 0. 0.]\n",
            " [0. 0. 0. 0.]\n",
            " [0. 0. 0. 0.]]\n"
          ]
        }
      ]
    },
    {
      "cell_type": "code",
      "source": [
        "a=np.ones((3,4))\n",
        "print(a)"
      ],
      "metadata": {
        "colab": {
          "base_uri": "https://localhost:8080/"
        },
        "id": "LOAQXZT7fxX-",
        "outputId": "fbbf2233-8a9d-41d7-e02c-08206e4a5c66"
      },
      "execution_count": null,
      "outputs": [
        {
          "output_type": "stream",
          "name": "stdout",
          "text": [
            "[[1. 1. 1. 1.]\n",
            " [1. 1. 1. 1.]\n",
            " [1. 1. 1. 1.]]\n"
          ]
        }
      ]
    },
    {
      "cell_type": "code",
      "source": [
        "a=np.ones((3,4))\n",
        "a=a*2\n",
        "\n",
        "print(a)"
      ],
      "metadata": {
        "id": "qm9FA_TsgVie",
        "colab": {
          "base_uri": "https://localhost:8080/"
        },
        "outputId": "d061d427-4dd0-4d67-92d9-fa27e15eb08e"
      },
      "execution_count": null,
      "outputs": [
        {
          "output_type": "stream",
          "name": "stdout",
          "text": [
            "[[2. 2. 2. 2.]\n",
            " [2. 2. 2. 2.]\n",
            " [2. 2. 2. 2.]]\n"
          ]
        }
      ]
    },
    {
      "cell_type": "code",
      "source": [
        "a=np.arange(12).reshape((3,4))\n",
        "\n",
        "b=np.ones_like(a)\n",
        "print(b)"
      ],
      "metadata": {
        "colab": {
          "base_uri": "https://localhost:8080/"
        },
        "id": "WQSMRZf1gVfl",
        "outputId": "6d427235-2a50-4a6a-c351-3187d27e51da"
      },
      "execution_count": null,
      "outputs": [
        {
          "output_type": "stream",
          "name": "stdout",
          "text": [
            "[[1 1 1 1]\n",
            " [1 1 1 1]\n",
            " [1 1 1 1]]\n"
          ]
        }
      ]
    },
    {
      "cell_type": "code",
      "source": [
        "a=np.eye(5)\n",
        "print(a)"
      ],
      "metadata": {
        "colab": {
          "base_uri": "https://localhost:8080/"
        },
        "id": "qoEUTBZKu4cZ",
        "outputId": "4fd34473-ba43-477a-9b6a-18c3436ae916"
      },
      "execution_count": null,
      "outputs": [
        {
          "output_type": "stream",
          "name": "stdout",
          "text": [
            "[[1. 0. 0. 0. 0.]\n",
            " [0. 1. 0. 0. 0.]\n",
            " [0. 0. 1. 0. 0.]\n",
            " [0. 0. 0. 1. 0.]\n",
            " [0. 0. 0. 0. 1.]]\n"
          ]
        }
      ]
    },
    {
      "cell_type": "code",
      "source": [
        "a=np.random.rand(10)\n",
        "print(a)"
      ],
      "metadata": {
        "colab": {
          "base_uri": "https://localhost:8080/"
        },
        "id": "YpwoBYTRu_dw",
        "outputId": "8f63f855-e564-4bcc-f370-f29234c3a384"
      },
      "execution_count": null,
      "outputs": [
        {
          "output_type": "stream",
          "name": "stdout",
          "text": [
            "[0.02876149 0.02647297 0.98518677 0.24660808 0.88848557 0.76924023\n",
            " 0.85051536 0.23723012 0.71047646 0.76066891]\n"
          ]
        }
      ]
    },
    {
      "cell_type": "code",
      "source": [
        "a=np.random.randint(1,7,size=10)\n",
        "print(a)"
      ],
      "metadata": {
        "colab": {
          "base_uri": "https://localhost:8080/"
        },
        "id": "BosZHYa7u_gM",
        "outputId": "b3660200-77e2-4824-f81d-2e45b07a421f"
      },
      "execution_count": null,
      "outputs": [
        {
          "output_type": "stream",
          "name": "stdout",
          "text": [
            "[6 3 4 3 5 6 2 5 1 3]\n"
          ]
        }
      ]
    },
    {
      "cell_type": "code",
      "source": [
        "a=np.random.randint(7,size=10)\n",
        "print(a)"
      ],
      "metadata": {
        "colab": {
          "base_uri": "https://localhost:8080/"
        },
        "id": "BcWlNNIPu_ie",
        "outputId": "016c38e8-6b97-4578-f335-42a91cc0b288"
      },
      "execution_count": null,
      "outputs": [
        {
          "output_type": "stream",
          "name": "stdout",
          "text": [
            "[0 4 3 0 1 3 5 2 3 2]\n"
          ]
        }
      ]
    },
    {
      "cell_type": "markdown",
      "source": [
        "### 넘파이 재배열 연산"
      ],
      "metadata": {
        "id": "H60Tfg5hBF9F"
      }
    },
    {
      "cell_type": "code",
      "source": [
        "a=np.arange(12).reshape((3,4))\n",
        "b=np.arange(12).reshape((3,4))*2\n",
        "\n",
        "print(a)\n",
        "print(b)\n",
        "\n",
        "# print(a+b)\n",
        "# print(a-b)\n",
        "# print(a*b)\n",
        "# print(a/b)"
      ],
      "metadata": {
        "colab": {
          "base_uri": "https://localhost:8080/"
        },
        "id": "9j2-Ycj7_irx",
        "outputId": "b1816f41-2c53-4d63-8b9d-ac74d94d79cf"
      },
      "execution_count": null,
      "outputs": [
        {
          "output_type": "stream",
          "name": "stdout",
          "text": [
            "[[ 0  1  2  3]\n",
            " [ 4  5  6  7]\n",
            " [ 8  9 10 11]]\n",
            "[[ 0  2  4  6]\n",
            " [ 8 10 12 14]\n",
            " [16 18 20 22]]\n"
          ]
        }
      ]
    },
    {
      "cell_type": "code",
      "source": [
        "a=np.arange(12).reshape((3,4))\n",
        "b=np.arange(3).reshape((3,1))*2+1\n",
        "\n",
        "print(a)\n",
        "print(b)\n",
        "\n",
        "print(a+b)\n",
        "print(a-b)\n",
        "print(a*b)\n",
        "print(a/b)"
      ],
      "metadata": {
        "colab": {
          "base_uri": "https://localhost:8080/"
        },
        "id": "IZUQ33J4_ipR",
        "outputId": "ba1252ed-830f-4343-d7b3-56110a57e941"
      },
      "execution_count": null,
      "outputs": [
        {
          "output_type": "stream",
          "name": "stdout",
          "text": [
            "[[ 0  1  2  3]\n",
            " [ 4  5  6  7]\n",
            " [ 8  9 10 11]]\n",
            "[[1]\n",
            " [3]\n",
            " [5]]\n",
            "[[ 1  2  3  4]\n",
            " [ 7  8  9 10]\n",
            " [13 14 15 16]]\n",
            "[[-1  0  1  2]\n",
            " [ 1  2  3  4]\n",
            " [ 3  4  5  6]]\n",
            "[[ 0  1  2  3]\n",
            " [12 15 18 21]\n",
            " [40 45 50 55]]\n",
            "[[0.         1.         2.         3.        ]\n",
            " [1.33333333 1.66666667 2.         2.33333333]\n",
            " [1.6        1.8        2.         2.2       ]]\n"
          ]
        }
      ]
    },
    {
      "cell_type": "code",
      "source": [
        "a=np.arange(12).reshape((3,4))\n",
        "b=np.arange(4).reshape((1,4))*2+1\n",
        "\n",
        "print(a)\n",
        "print(b)\n",
        "\n",
        "print(a+b)\n",
        "print(a-b)\n",
        "print(a*b)\n",
        "print(a/b)"
      ],
      "metadata": {
        "colab": {
          "base_uri": "https://localhost:8080/"
        },
        "id": "o4PQN0g7_il0",
        "outputId": "e3f6de1c-234d-464c-e277-15bc97da530e"
      },
      "execution_count": null,
      "outputs": [
        {
          "output_type": "stream",
          "name": "stdout",
          "text": [
            "[[ 0  1  2  3]\n",
            " [ 4  5  6  7]\n",
            " [ 8  9 10 11]]\n",
            "[[1 3 5 7]]\n",
            "[[ 1  4  7 10]\n",
            " [ 5  8 11 14]\n",
            " [ 9 12 15 18]]\n",
            "[[-1 -2 -3 -4]\n",
            " [ 3  2  1  0]\n",
            " [ 7  6  5  4]]\n",
            "[[ 0  3 10 21]\n",
            " [ 4 15 30 49]\n",
            " [ 8 27 50 77]]\n",
            "[[0.         0.33333333 0.4        0.42857143]\n",
            " [4.         1.66666667 1.2        1.        ]\n",
            " [8.         3.         2.         1.57142857]]\n"
          ]
        }
      ]
    },
    {
      "cell_type": "markdown",
      "source": [
        "#### sum 함수"
      ],
      "metadata": {
        "id": "CXHEVlf1B2tg"
      }
    },
    {
      "cell_type": "code",
      "source": [
        "a=np.arange(12).reshape(3,4)\n",
        "print(a)\n",
        "print(np.sum(a))"
      ],
      "metadata": {
        "colab": {
          "base_uri": "https://localhost:8080/"
        },
        "id": "s0wAGV4eBz-K",
        "outputId": "eeab194f-7288-4b1d-af7e-19171d4830eb"
      },
      "execution_count": null,
      "outputs": [
        {
          "output_type": "stream",
          "name": "stdout",
          "text": [
            "[[ 0  1  2  3]\n",
            " [ 4  5  6  7]\n",
            " [ 8  9 10 11]]\n",
            "66\n"
          ]
        }
      ]
    },
    {
      "cell_type": "code",
      "source": [
        "# 홀수들의 합\n",
        "a=np.arange(12).reshape(3,4)\n",
        "print(a)\n",
        "a[a%2==0]=0\n",
        "print(a)\n",
        "print(np.sum(a))"
      ],
      "metadata": {
        "colab": {
          "base_uri": "https://localhost:8080/"
        },
        "id": "uFh_W1e4B6Go",
        "outputId": "cdb05a0b-91ed-4831-e90e-f6525b912add"
      },
      "execution_count": null,
      "outputs": [
        {
          "output_type": "stream",
          "name": "stdout",
          "text": [
            "[[ 0  1  2  3]\n",
            " [ 4  5  6  7]\n",
            " [ 8  9 10 11]]\n",
            "[[ 0  1  0  3]\n",
            " [ 0  5  0  7]\n",
            " [ 0  9  0 11]]\n",
            "36\n"
          ]
        }
      ]
    },
    {
      "cell_type": "code",
      "source": [
        "# 짝수들의 합1\n",
        "a=np.arange(12).reshape(3,4)\n",
        "print(a)\n",
        "a[a%2==1]=0\n",
        "print(a)\n",
        "print(np.sum(a))"
      ],
      "metadata": {
        "colab": {
          "base_uri": "https://localhost:8080/"
        },
        "id": "e5XPFMzTB6EV",
        "outputId": "9db4a146-da5f-469c-b701-50d1cdb5f886"
      },
      "execution_count": null,
      "outputs": [
        {
          "output_type": "stream",
          "name": "stdout",
          "text": [
            "[[ 0  1  2  3]\n",
            " [ 4  5  6  7]\n",
            " [ 8  9 10 11]]\n",
            "[[ 0  0  2  0]\n",
            " [ 4  0  6  0]\n",
            " [ 8  0 10  0]]\n",
            "30\n"
          ]
        }
      ]
    },
    {
      "cell_type": "code",
      "source": [
        "# 짝수들의 합2\n",
        "a = np.arange(12).reshape(3,4)\n",
        "def is_even_mask(a):\n",
        "  return a%2==0\n",
        "mask = is_even_mask(a)\n",
        "print(np.sum(a*mask))\n",
        "print(a*mask)"
      ],
      "metadata": {
        "colab": {
          "base_uri": "https://localhost:8080/"
        },
        "id": "7Xie87JSB6CD",
        "outputId": "13435d98-6297-4003-b7cc-130c796062b0"
      },
      "execution_count": null,
      "outputs": [
        {
          "output_type": "stream",
          "name": "stdout",
          "text": [
            "30\n",
            "[[ 0  0  2  0]\n",
            " [ 4  0  6  0]\n",
            " [ 8  0 10  0]]\n"
          ]
        }
      ]
    },
    {
      "cell_type": "code",
      "source": [
        "# 짝수들의 합3\n",
        "l=[0,1,2,3,4,5,6]\n",
        "np_l=np.array(l)\n",
        "mask=(np_l%2==0)\n",
        "print(np.sum(np_l*mask))\n",
        "print(np_l*mask)"
      ],
      "metadata": {
        "colab": {
          "base_uri": "https://localhost:8080/"
        },
        "id": "dcvVEJUjCSUu",
        "outputId": "d9e690e4-f01f-426f-f973-aa27dc742fdc"
      },
      "execution_count": null,
      "outputs": [
        {
          "output_type": "stream",
          "name": "stdout",
          "text": [
            "12\n",
            "[0 0 2 0 4 0 6]\n"
          ]
        }
      ]
    },
    {
      "cell_type": "code",
      "source": [
        "# 10보다 작은 수 합\n",
        "a=np.arange(12).reshape(3,4)\n",
        "print(a)\n",
        "a[a>=10]=0\n",
        "print(a)\n",
        "print(np.sum(a))"
      ],
      "metadata": {
        "colab": {
          "base_uri": "https://localhost:8080/"
        },
        "id": "W-MoiyPJCYDV",
        "outputId": "a3a833b6-d2ca-4455-f5b7-16efe637447b"
      },
      "execution_count": null,
      "outputs": [
        {
          "output_type": "stream",
          "name": "stdout",
          "text": [
            "[[ 0  1  2  3]\n",
            " [ 4  5  6  7]\n",
            " [ 8  9 10 11]]\n",
            "[[0 1 2 3]\n",
            " [4 5 6 7]\n",
            " [8 9 0 0]]\n",
            "45\n"
          ]
        }
      ]
    },
    {
      "cell_type": "code",
      "source": [
        "# 5보다 크고 짝수인 수 합\n",
        "a=np.arange(12).reshape(3,4)\n",
        "print(a)\n",
        "a[(a<=5)|(a%2==1)]=0\n",
        "print(a)\n",
        "print(np.sum(a))"
      ],
      "metadata": {
        "colab": {
          "base_uri": "https://localhost:8080/"
        },
        "id": "XqA7MlfpCYAp",
        "outputId": "0aafb910-720c-4868-8e02-e4091063e36e"
      },
      "execution_count": null,
      "outputs": [
        {
          "output_type": "stream",
          "name": "stdout",
          "text": [
            "[[ 0  1  2  3]\n",
            " [ 4  5  6  7]\n",
            " [ 8  9 10 11]]\n",
            "[[ 0  0  0  0]\n",
            " [ 0  0  6  0]\n",
            " [ 8  0 10  0]]\n",
            "24\n"
          ]
        }
      ]
    },
    {
      "cell_type": "code",
      "source": [
        "# 홀수만 구하기1\n",
        "a=np.arange(12).reshape(3,4)\n",
        "print(a)\n",
        "mask= (a%2==1)\n",
        "print(mask)\n",
        "print(a*mask)\n",
        "print(np.sum(a*mask))"
      ],
      "metadata": {
        "colab": {
          "base_uri": "https://localhost:8080/"
        },
        "id": "y0oBoYwdCX-I",
        "outputId": "678799e1-d46c-4486-8984-d42afedf40ea"
      },
      "execution_count": null,
      "outputs": [
        {
          "output_type": "stream",
          "name": "stdout",
          "text": [
            "[[ 0  1  2  3]\n",
            " [ 4  5  6  7]\n",
            " [ 8  9 10 11]]\n",
            "[[False  True False  True]\n",
            " [False  True False  True]\n",
            " [False  True False  True]]\n",
            "[[ 0  1  0  3]\n",
            " [ 0  5  0  7]\n",
            " [ 0  9  0 11]]\n",
            "36\n"
          ]
        }
      ]
    },
    {
      "cell_type": "code",
      "source": [
        "# 홀수만 구하기2\n",
        "a=np.arange(12).reshape(3,4)\n",
        "print(a)\n",
        "mask=(a>5) & (a%2==0)\n",
        "\n",
        "print(mask)\n",
        "print(a*mask)\n",
        "print(np.sum(a*mask))"
      ],
      "metadata": {
        "colab": {
          "base_uri": "https://localhost:8080/"
        },
        "id": "nKRZG2xqCpYZ",
        "outputId": "c85c099e-c043-426c-e086-0f5cf541b71e"
      },
      "execution_count": null,
      "outputs": [
        {
          "output_type": "stream",
          "name": "stdout",
          "text": [
            "[[ 0  1  2  3]\n",
            " [ 4  5  6  7]\n",
            " [ 8  9 10 11]]\n",
            "[[False False False False]\n",
            " [False False  True False]\n",
            " [ True False  True False]]\n",
            "[[ 0  0  0  0]\n",
            " [ 0  0  6  0]\n",
            " [ 8  0 10  0]]\n",
            "24\n"
          ]
        }
      ]
    },
    {
      "cell_type": "markdown",
      "source": [
        "#### True, False"
      ],
      "metadata": {
        "id": "RAUWjRjiD9PT"
      }
    },
    {
      "cell_type": "code",
      "source": [
        "print(5*1)\n",
        "print(5*True)\n",
        "print(5*False)"
      ],
      "metadata": {
        "id": "K53HWB0JD_pi"
      },
      "execution_count": null,
      "outputs": []
    },
    {
      "cell_type": "code",
      "source": [
        "a = np.array([0,1,2,3,4,5])\n",
        "# b = np.array([0,0,0,1,1,1])\n",
        "b = np.array([False, False, False, True, True, True])\n",
        "\n",
        "print(a*b)"
      ],
      "metadata": {
        "id": "0mJd_CMcD_7H"
      },
      "execution_count": null,
      "outputs": []
    },
    {
      "cell_type": "code",
      "source": [
        "a = np.arange(12)\n",
        "\n",
        "mask = a%2==0\n",
        "print(a)\n",
        "print(mask)"
      ],
      "metadata": {
        "id": "oz_S2-PcD_3p"
      },
      "execution_count": null,
      "outputs": []
    },
    {
      "cell_type": "markdown",
      "source": [
        "#### matmul 함수\n",
        "\n",
        "2D의 경우 기존 행렬 곱"
      ],
      "metadata": {
        "id": "C4-ectLhAgkf"
      }
    },
    {
      "cell_type": "code",
      "source": [
        "a=np.arange(6).reshape((2,3))\n",
        "b=np.arange(12).reshape((3,4))\n",
        "print(a)\n",
        "print(b)\n",
        "print(np.matmul(a,b))"
      ],
      "metadata": {
        "colab": {
          "base_uri": "https://localhost:8080/"
        },
        "id": "VZCAPfudAnD5",
        "outputId": "8359a75a-566b-4d26-e0fd-677239e24eb6"
      },
      "execution_count": null,
      "outputs": [
        {
          "output_type": "stream",
          "name": "stdout",
          "text": [
            "[[0 1 2]\n",
            " [3 4 5]]\n",
            "[[ 0  1  2  3]\n",
            " [ 4  5  6  7]\n",
            " [ 8  9 10 11]]\n",
            "[[20 23 26 29]\n",
            " [56 68 80 92]]\n"
          ]
        }
      ]
    },
    {
      "cell_type": "markdown",
      "source": [
        "#### % 나누기 함수"
      ],
      "metadata": {
        "id": "OBOLR3CmA6cK"
      }
    },
    {
      "cell_type": "code",
      "source": [
        "a=np.arange(12).reshape(3,4)\n",
        "print(a%2==0)"
      ],
      "metadata": {
        "colab": {
          "base_uri": "https://localhost:8080/"
        },
        "id": "hDn9ZAoBAnKi",
        "outputId": "510cb0df-768b-48c0-b201-90efc32b90a8"
      },
      "execution_count": null,
      "outputs": [
        {
          "output_type": "stream",
          "name": "stdout",
          "text": [
            "[[ True False  True False]\n",
            " [ True False  True False]\n",
            " [ True False  True False]]\n"
          ]
        }
      ]
    },
    {
      "cell_type": "code",
      "source": [
        "a=np.arange(12).reshape(3,4)\n",
        "print(a)\n",
        "print(a%2)\n",
        "print(a%2==0)"
      ],
      "metadata": {
        "colab": {
          "base_uri": "https://localhost:8080/"
        },
        "id": "t_9haPjeAnIe",
        "outputId": "7ff43271-8ae5-4de2-c658-ef4043219392"
      },
      "execution_count": null,
      "outputs": [
        {
          "output_type": "stream",
          "name": "stdout",
          "text": [
            "[[ 0  1  2  3]\n",
            " [ 4  5  6  7]\n",
            " [ 8  9 10 11]]\n",
            "[[0 1 0 1]\n",
            " [0 1 0 1]\n",
            " [0 1 0 1]]\n",
            "[[ True False  True False]\n",
            " [ True False  True False]\n",
            " [ True False  True False]]\n"
          ]
        }
      ]
    },
    {
      "cell_type": "code",
      "source": [
        "for i in range(10):\n",
        "  print(i,i%4)"
      ],
      "metadata": {
        "colab": {
          "base_uri": "https://localhost:8080/"
        },
        "id": "aPzjqjnxAnGC",
        "outputId": "80f1fae9-235a-457e-c624-198e8a264d83"
      },
      "execution_count": null,
      "outputs": [
        {
          "output_type": "stream",
          "name": "stdout",
          "text": [
            "0 0\n",
            "1 1\n",
            "2 2\n",
            "3 3\n",
            "4 0\n",
            "5 1\n",
            "6 2\n",
            "7 3\n",
            "8 0\n",
            "9 1\n"
          ]
        }
      ]
    },
    {
      "cell_type": "code",
      "source": [
        "a=np.arange(12).reshape(3,4)\n",
        "print(a)\n",
        "print(a%2)\n",
        "print(a%2==0)\n",
        "a[a%2==0]=0\n",
        "print(a)"
      ],
      "metadata": {
        "colab": {
          "base_uri": "https://localhost:8080/"
        },
        "id": "V3u3wGhIBrZn",
        "outputId": "23455e65-31fc-4a8a-a839-2592e73d6da6"
      },
      "execution_count": null,
      "outputs": [
        {
          "output_type": "stream",
          "name": "stdout",
          "text": [
            "[[ 0  1  2  3]\n",
            " [ 4  5  6  7]\n",
            " [ 8  9 10 11]]\n",
            "[[0 1 0 1]\n",
            " [0 1 0 1]\n",
            " [0 1 0 1]]\n",
            "[[ True False  True False]\n",
            " [ True False  True False]\n",
            " [ True False  True False]]\n",
            "[[ 0  1  0  3]\n",
            " [ 0  5  0  7]\n",
            " [ 0  9  0 11]]\n"
          ]
        }
      ]
    },
    {
      "cell_type": "markdown",
      "source": [
        "#### axis 사용해서 연산하기"
      ],
      "metadata": {
        "id": "xrvL2Y-xKH5e"
      }
    },
    {
      "cell_type": "code",
      "source": [
        "a = np.arange(15).reshape((5,3))\n",
        "print(a)\n",
        "\n",
        "# 세로축 합\n",
        "print(np.sum(a, axis=0))\n",
        "\n",
        "# 가로축 합\n",
        "print(np.sum(a, axis=1))"
      ],
      "metadata": {
        "colab": {
          "base_uri": "https://localhost:8080/"
        },
        "id": "HrtCvgUoKMpR",
        "outputId": "4fc5ea4d-40e1-440b-a5ac-9699d94871f6"
      },
      "execution_count": 71,
      "outputs": [
        {
          "output_type": "stream",
          "name": "stdout",
          "text": [
            "[[ 0  1  2]\n",
            " [ 3  4  5]\n",
            " [ 6  7  8]\n",
            " [ 9 10 11]\n",
            " [12 13 14]]\n",
            "[30 35 40]\n",
            "[ 3 12 21 30 39]\n"
          ]
        }
      ]
    },
    {
      "cell_type": "code",
      "source": [
        "a = np.arange(15).reshape((5,3))\n",
        "print(a)\n",
        "\n",
        "# 세로축 평균\n",
        "print(np.mean(a, axis=0))\n",
        "\n",
        "# 가로축 평균\n",
        "print(np.mean(a, axis=1))"
      ],
      "metadata": {
        "id": "5a4SpuTTKMnJ"
      },
      "execution_count": null,
      "outputs": []
    },
    {
      "cell_type": "code",
      "source": [
        "a = np.arange(60).reshape((3,4,5))\n",
        "print(np.sum(a, axis=2).shape)\n",
        "# (3,4)\n",
        "\n",
        "print(np.sum(a, axis=0).shape)\n",
        "# (4,5)\n",
        "\n",
        "print(np.sum(a, axis=1).shape)\n",
        "# (3,5)\n"
      ],
      "metadata": {
        "id": "KBxk8_fBKMlF"
      },
      "execution_count": null,
      "outputs": []
    },
    {
      "cell_type": "code",
      "source": [
        "a = np.array([ [170, 65],\n",
        "               [165, 75],\n",
        "               [171, 70],\n",
        "               [155, 50],\n",
        "               [165, 55] ])\n",
        "\n",
        "print(np.mean(a, axis=0))\n",
        "print(np.max(a, axis=0))\n",
        "print(np.argmax(a, axis=0))"
      ],
      "metadata": {
        "id": "N3oiSLnzKMY-"
      },
      "execution_count": null,
      "outputs": []
    },
    {
      "cell_type": "markdown",
      "source": [
        "# 넘파이 평균, 표준편차"
      ],
      "metadata": {
        "id": "i_7oGeEIt9Nx"
      }
    },
    {
      "cell_type": "code",
      "source": [
        "a= np.arange(12)\n",
        "print(a)\n",
        "\n",
        "m=np.mean(a)\n",
        "print(m)\n",
        "\n",
        "sd=np.std(a)\n",
        "print(sd)"
      ],
      "metadata": {
        "id": "Qaim1z7agVk5",
        "colab": {
          "base_uri": "https://localhost:8080/"
        },
        "outputId": "fceb7353-af85-402b-c657-b5660701c447"
      },
      "execution_count": null,
      "outputs": [
        {
          "output_type": "stream",
          "name": "stdout",
          "text": [
            "[ 0  1  2  3  4  5  6  7  8  9 10 11]\n",
            "5.5\n",
            "3.452052529534663\n"
          ]
        }
      ]
    },
    {
      "cell_type": "code",
      "source": [
        "n=((a-m)/sd)\n",
        "print(n)"
      ],
      "metadata": {
        "id": "iIX8FxzUgVnU",
        "colab": {
          "base_uri": "https://localhost:8080/"
        },
        "outputId": "254ea2d5-f892-41d3-c594-31cf2b6c8cde"
      },
      "execution_count": null,
      "outputs": [
        {
          "output_type": "stream",
          "name": "stdout",
          "text": [
            "[-1.59325501 -1.30357228 -1.01388955 -0.72420682 -0.43452409 -0.14484136\n",
            "  0.14484136  0.43452409  0.72420682  1.01388955  1.30357228  1.59325501]\n"
          ]
        }
      ]
    },
    {
      "cell_type": "markdown",
      "source": [
        "# 넘파이 최솟값, 최댓값"
      ],
      "metadata": {
        "id": "CpgRqJrvuJ1w"
      }
    },
    {
      "cell_type": "code",
      "source": [
        "a=np.arange(4)\n",
        "print(a)"
      ],
      "metadata": {
        "id": "KIUQkQ_8gVpm",
        "colab": {
          "base_uri": "https://localhost:8080/"
        },
        "outputId": "7ed102f7-5bc1-48d2-a760-48fe6f50a3ed"
      },
      "execution_count": null,
      "outputs": [
        {
          "output_type": "stream",
          "name": "stdout",
          "text": [
            "[0 1 2 3]\n"
          ]
        }
      ]
    },
    {
      "cell_type": "code",
      "source": [
        "m=np.min(a)\n",
        "M=np.max(a)\n",
        "\n",
        "print(m)\n",
        "print(M)\n",
        "\n",
        "b=(a-m)/(M-m)\n",
        "print(b)"
      ],
      "metadata": {
        "id": "WHcvgw_zgVr4",
        "colab": {
          "base_uri": "https://localhost:8080/"
        },
        "outputId": "d94d3091-6bef-4ab7-cfd9-efc4d0ab62f3"
      },
      "execution_count": null,
      "outputs": [
        {
          "output_type": "stream",
          "name": "stdout",
          "text": [
            "0\n",
            "3\n",
            "[0.         0.33333333 0.66666667 1.        ]\n"
          ]
        }
      ]
    },
    {
      "cell_type": "markdown",
      "source": [
        "### argmax, argmin\n",
        "\n",
        "집합 안에서 함수값을 최대, 최소로 만들어주는 인덱스값 골라내기"
      ],
      "metadata": {
        "id": "6JpPX8XDKxqA"
      }
    },
    {
      "cell_type": "code",
      "source": [
        "a = np.array([ 1,3,5,2,4 ])\n",
        "print(np.max(a))\n",
        "print(np.argmax(a))"
      ],
      "metadata": {
        "colab": {
          "base_uri": "https://localhost:8080/"
        },
        "id": "yAuMKYZLK8th",
        "outputId": "2961180f-f862-4b4f-b553-387a9b549ed6"
      },
      "execution_count": 72,
      "outputs": [
        {
          "output_type": "stream",
          "name": "stdout",
          "text": [
            "5\n",
            "2\n"
          ]
        }
      ]
    },
    {
      "cell_type": "code",
      "source": [
        "a = np.array([ 1,3,5,2,4 ])\n",
        "print(np.max(a))\n",
        "print(np.argmin(a))"
      ],
      "metadata": {
        "colab": {
          "base_uri": "https://localhost:8080/"
        },
        "id": "trtrz3KdK9m5",
        "outputId": "333ee5e4-c83d-4dd1-cfe1-73715209ed66"
      },
      "execution_count": 73,
      "outputs": [
        {
          "output_type": "stream",
          "name": "stdout",
          "text": [
            "5\n",
            "0\n"
          ]
        }
      ]
    },
    {
      "cell_type": "code",
      "source": [
        "a = np.array([ [170, 65],\n",
        "               [165, 75],\n",
        "               [171, 70],\n",
        "               [155, 50],\n",
        "               [165, 55] ])\n",
        "\n",
        "print(np.mean(a, axis=0))\n",
        "print(np.max(a, axis=0))\n",
        "print(np.argmax(a, axis=0))\n",
        "print(np.min(a, axis=0))\n",
        "print(np.argmin(a, axis=0))"
      ],
      "metadata": {
        "colab": {
          "base_uri": "https://localhost:8080/"
        },
        "id": "plpr0PqyLE4s",
        "outputId": "bb862121-056a-47c0-cc87-22b4a0e99fdd"
      },
      "execution_count": 74,
      "outputs": [
        {
          "output_type": "stream",
          "name": "stdout",
          "text": [
            "[165.2  63. ]\n",
            "[171  75]\n",
            "[2 1]\n",
            "[155  50]\n",
            "[3 3]\n"
          ]
        }
      ]
    },
    {
      "cell_type": "markdown",
      "source": [
        " # 넘파이 시각화"
      ],
      "metadata": {
        "id": "NSg7_pIGvObV"
      }
    },
    {
      "cell_type": "code",
      "source": [
        "a=np.random.rand(10000)\n",
        "\n",
        "import matplotlib.pyplot as plt\n",
        "\n",
        "plt.hist(a,bins=1000)\n",
        "plt.show()"
      ],
      "metadata": {
        "id": "HzWh03w5gVuf",
        "colab": {
          "base_uri": "https://localhost:8080/",
          "height": 265
        },
        "outputId": "9c8888a1-70e1-4d2f-ed30-18af612dc546"
      },
      "execution_count": null,
      "outputs": [
        {
          "output_type": "display_data",
          "data": {
            "image/png": "[encoded data removed]",
            "text/plain": [
              "<Figure size 432x288 with 1 Axes>"
            ]
          },
          "metadata": {
            "needs_background": "light"
          }
        }
      ]
    },
    {
      "cell_type": "markdown",
      "source": [
        "### 자연 분포"
      ],
      "metadata": {
        "id": "WMFDognqvXe9"
      }
    },
    {
      "cell_type": "code",
      "source": [
        "a= np.random.randn(10000)\n",
        "\n",
        "plt.hist(a,bins = 1000)\n",
        "plt.show()"
      ],
      "metadata": {
        "id": "KwQRNtSqgVwz",
        "colab": {
          "base_uri": "https://localhost:8080/",
          "height": 265
        },
        "outputId": "9e13ca77-d461-48c2-bd73-5b7ec1b74fb2"
      },
      "execution_count": null,
      "outputs": [
        {
          "output_type": "display_data",
          "data": {
            "image/png": "[encoded data removed]",
            "text/plain": [
              "<Figure size 432x288 with 1 Axes>"
            ]
          },
          "metadata": {
            "needs_background": "light"
          }
        }
      ]
    },
    {
      "cell_type": "code",
      "source": [
        "a=np.random.randn(10000)\n",
        "\n",
        "plt.hist(a,bins=1000)\n",
        "plt.show()\n",
        "\n",
        "print(np.mean(a))\n",
        "print(np.max(a))\n",
        "print(np.min(a))\n",
        "print(np.std(a))"
      ],
      "metadata": {
        "id": "CGdmvVR1gVzd",
        "colab": {
          "base_uri": "https://localhost:8080/",
          "height": 338
        },
        "outputId": "5da4e501-5e78-4d3b-d1a4-7980552a3df3"
      },
      "execution_count": null,
      "outputs": [
        {
          "output_type": "display_data",
          "data": {
            "image/png": "[encoded data removed]",
            "text/plain": [
              "<Figure size 432x288 with 1 Axes>"
            ]
          },
          "metadata": {
            "needs_background": "light"
          }
        },
        {
          "output_type": "stream",
          "name": "stdout",
          "text": [
            "0.008479400372357582\n",
            "3.3624759963036035\n",
            "-3.8412647349921665\n",
            "1.0119008945477814\n"
          ]
        }
      ]
    }
  ]
}