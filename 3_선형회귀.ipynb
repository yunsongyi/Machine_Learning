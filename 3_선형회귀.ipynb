{
 "cells": [
  {
   "cell_type": "code",
   "execution_count": 1,
   "id": "4841b36a",
   "metadata": {},
   "outputs": [],
   "source": [
    "import pandas as pd\n",
    "import numpy as np\n",
    "import matplotlib.pyplot as plt"
   ]
  },
  {
   "cell_type": "markdown",
   "id": "451aa077",
   "metadata": {},
   "source": [
    "```\n",
    "시간 : 2,4,6,8\n",
    "점수 : 81,93,91,97\n",
    "    \n",
    "독립변수(시간)을 사용해 종속변수(점수)의 값을 예측하는 것(선형회귀)\n",
    "```"
   ]
  },
  {
   "cell_type": "code",
   "execution_count": 2,
   "id": "385e4369",
   "metadata": {},
   "outputs": [],
   "source": [
    "X=[2, 4, 6, 8]\n",
    "Y=[81, 93, 91, 97]"
   ]
  },
  {
   "cell_type": "code",
   "execution_count": 3,
   "id": "4c9ebdb7",
   "metadata": {},
   "outputs": [
    {
     "data": {
      "image/png": "[encoded data removed]",
      "text/plain": [
       "<Figure size 432x288 with 1 Axes>"
      ]
     },
     "metadata": {
      "needs_background": "light"
     },
     "output_type": "display_data"
    }
   ],
   "source": [
    "# 산점도 그리기\n",
    "plt.scatter(X,Y)\n",
    "plt.xlabel('Time')\n",
    "plt.ylabel('Score')\n",
    "plt.show()"
   ]
  },
  {
   "cell_type": "code",
   "execution_count": 4,
   "id": "6179fb59",
   "metadata": {},
   "outputs": [],
   "source": [
    "# 평균\n",
    "meanx=np.mean(X)\n",
    "meany=np.mean(Y)"
   ]
  },
  {
   "cell_type": "code",
   "execution_count": 5,
   "id": "41d0763e",
   "metadata": {},
   "outputs": [
    {
     "name": "stdout",
     "output_type": "stream",
     "text": [
      "20.0\n"
     ]
    }
   ],
   "source": [
    "# 최소 제곱법에서 분모가 되는 값 구하기\n",
    "diffx = sum([(i-meanx)**2 for i in X])\n",
    "print(diffx)"
   ]
  },
  {
   "cell_type": "code",
   "execution_count": 6,
   "id": "f5ef7122",
   "metadata": {},
   "outputs": [
    {
     "name": "stdout",
     "output_type": "stream",
     "text": [
      "분모 :  20.0\n",
      "분자 :  46.0\n",
      "기울기 :  2.3\n",
      "y절편 :  79.0\n"
     ]
    }
   ],
   "source": [
    "# 최소 제곱법에서 분자가 되는 값 구하기\n",
    "def top(X, meanx, Y, meany):\n",
    "    diffvalue=0\n",
    "    \n",
    "    for i in range(len(X)):\n",
    "        diffvalue += (X[i]-meanx) * (Y[i]-meany)\n",
    "    return diffvalue\n",
    "\n",
    "diffnum = top(X, meanx, Y, meany)\n",
    "\n",
    "print('분모 : ',diffx)\n",
    "print('분자 : ',diffnum)\n",
    "\n",
    "a=diffnum/diffx\n",
    "b=meany-(meanx*a)\n",
    "\n",
    "print('기울기 : ',a)\n",
    "print('y절편 : ',b)"
   ]
  },
  {
   "cell_type": "code",
   "execution_count": null,
   "id": "7ecfa4f9",
   "metadata": {},
   "outputs": [],
   "source": []
  },
  {
   "cell_type": "markdown",
   "id": "aa9f7c8b",
   "metadata": {},
   "source": [
    "### 또 다른 방법"
   ]
  },
  {
   "cell_type": "code",
   "execution_count": 7,
   "id": "a405d05c",
   "metadata": {},
   "outputs": [],
   "source": [
    "score_data=[[2,81],[4,93],[6,91],[8,97]]\n",
    "X = [i[0] for i in score_data]\n",
    "Y = [i[1] for i in score_data]"
   ]
  },
  {
   "cell_type": "code",
   "execution_count": 9,
   "id": "7ae9b054",
   "metadata": {},
   "outputs": [
    {
     "name": "stdout",
     "output_type": "stream",
     "text": [
      "[2, 4, 6, 8]\n",
      "[81, 93, 91, 97]\n"
     ]
    }
   ],
   "source": [
    "print(X)\n",
    "print(Y)"
   ]
  },
  {
   "cell_type": "code",
   "execution_count": 10,
   "id": "942584ce",
   "metadata": {},
   "outputs": [
    {
     "data": {
      "image/png": "[encoded data removed]",
      "text/plain": [
       "<Figure size 432x288 with 1 Axes>"
      ]
     },
     "metadata": {
      "needs_background": "light"
     },
     "output_type": "display_data"
    }
   ],
   "source": [
    "# 산점도 그리기\n",
    "plt.figure(figsize=(6,4))\n",
    "plt.scatter(X,Y)\n",
    "plt.show()"
   ]
  },
  {
   "cell_type": "code",
   "execution_count": 11,
   "id": "f3e2d825",
   "metadata": {},
   "outputs": [],
   "source": [
    "# 넘파이 배열로 바꾸기\n",
    "X_data=np.array(X)\n",
    "Y_data=np.array(Y)"
   ]
  },
  {
   "cell_type": "code",
   "execution_count": 18,
   "id": "e853bd23",
   "metadata": {},
   "outputs": [],
   "source": [
    "# 가중치와 절편 초기화\n",
    "a=0\n",
    "b=0"
   ]
  },
  {
   "cell_type": "code",
   "execution_count": 19,
   "id": "068904b7",
   "metadata": {},
   "outputs": [],
   "source": [
    "# 학습률과 학습반복횟수 설정\n",
    "lr=0.03\n",
    "epochs = 1000"
   ]
  },
  {
   "cell_type": "code",
   "execution_count": 20,
   "id": "8326b39a",
   "metadata": {},
   "outputs": [
    {
     "name": "stdout",
     "output_type": "stream",
     "text": [
      "epoch=0, 기울기=13.9200  절편=2.7150\n",
      "epoch=100, 기울기=10.1307  절편=32.2700\n",
      "epoch=200, 기울기=7.1088  절편=50.3032\n",
      "epoch=300, 기울기=5.2531  절편=61.3774\n",
      "epoch=400, 기울기=4.1135  절편=68.1780\n",
      "epoch=500, 기울기=3.4136  절편=72.3542\n",
      "epoch=600, 기울기=2.9839  절편=74.9189\n",
      "epoch=700, 기울기=2.7200  절편=76.4938\n",
      "epoch=800, 기울기=2.5579  절편=77.4609\n",
      "epoch=900, 기울기=2.4584  절편=78.0549\n"
     ]
    }
   ],
   "source": [
    "for i in range(epochs):\n",
    "    # 예측값과 오차계산\n",
    "    predict_y = a * X_data + b\n",
    "    err = Y_data - predict_y\n",
    "    \n",
    "    # 편미분 연산\n",
    "    a_diff = -(1/len(X_data)) * sum(X_data * err)\n",
    "    b_diff = -(1/len(X_data)) * sum(err)\n",
    "    \n",
    "    # 가중치와 절편 업데이트\n",
    "    a -= lr * a_diff\n",
    "    b -= lr * b_diff\n",
    "    \n",
    "    if i % 100 == 0:\n",
    "        print('epoch=%.f, 기울기=%.04f  절편=%.04f' %(i,a,b))"
   ]
  },
  {
   "cell_type": "code",
   "execution_count": 21,
   "id": "d1b9a365",
   "metadata": {},
   "outputs": [
    {
     "name": "stdout",
     "output_type": "stream",
     "text": [
      "epoch=0, 기울기=13.9200  절편=2.7150\n",
      "epoch=100, 기울기=10.1307  절편=32.2700\n",
      "epoch=200, 기울기=7.1088  절편=50.3032\n",
      "epoch=300, 기울기=5.2531  절편=61.3774\n",
      "epoch=400, 기울기=4.1135  절편=68.1780\n",
      "epoch=500, 기울기=3.4136  절편=72.3542\n",
      "epoch=600, 기울기=2.9839  절편=74.9189\n",
      "epoch=700, 기울기=2.7200  절편=76.4938\n",
      "epoch=800, 기울기=2.5579  절편=77.4609\n",
      "epoch=900, 기울기=2.4584  절편=78.0549\n",
      "epoch=1000, 기울기=2.3973  절편=78.4196\n",
      "epoch=1100, 기울기=2.3597  절편=78.6436\n",
      "epoch=1200, 기울기=2.3367  절편=78.7811\n",
      "epoch=1300, 기울기=2.3225  절편=78.8656\n",
      "epoch=1400, 기울기=2.3138  절편=78.9175\n",
      "epoch=1500, 기울기=2.3085  절편=78.9493\n",
      "epoch=1600, 기울기=2.3052  절편=78.9689\n",
      "epoch=1700, 기울기=2.3032  절편=78.9809\n",
      "epoch=1800, 기울기=2.3020  절편=78.9883\n",
      "epoch=1900, 기울기=2.3012  절편=78.9928\n",
      "epoch=2000, 기울기=2.3007  절편=78.9956\n",
      "epoch=2100, 기울기=2.3005  절편=78.9973\n",
      "epoch=2200, 기울기=2.3003  절편=78.9983\n",
      "epoch=2300, 기울기=2.3002  절편=78.9990\n",
      "epoch=2400, 기울기=2.3001  절편=78.9994\n",
      "epoch=2500, 기울기=2.3001  절편=78.9996\n",
      "epoch=2600, 기울기=2.3000  절편=78.9998\n",
      "epoch=2700, 기울기=2.3000  절편=78.9999\n",
      "epoch=2800, 기울기=2.3000  절편=78.9999\n",
      "epoch=2900, 기울기=2.3000  절편=78.9999\n",
      "epoch=3000, 기울기=2.3000  절편=79.0000\n",
      "epoch=3100, 기울기=2.3000  절편=79.0000\n",
      "epoch=3200, 기울기=2.3000  절편=79.0000\n",
      "epoch=3300, 기울기=2.3000  절편=79.0000\n",
      "epoch=3400, 기울기=2.3000  절편=79.0000\n",
      "epoch=3500, 기울기=2.3000  절편=79.0000\n",
      "epoch=3600, 기울기=2.3000  절편=79.0000\n",
      "epoch=3700, 기울기=2.3000  절편=79.0000\n",
      "epoch=3800, 기울기=2.3000  절편=79.0000\n",
      "epoch=3900, 기울기=2.3000  절편=79.0000\n",
      "epoch=4000, 기울기=2.3000  절편=79.0000\n",
      "epoch=4100, 기울기=2.3000  절편=79.0000\n",
      "epoch=4200, 기울기=2.3000  절편=79.0000\n",
      "epoch=4300, 기울기=2.3000  절편=79.0000\n",
      "epoch=4400, 기울기=2.3000  절편=79.0000\n",
      "epoch=4500, 기울기=2.3000  절편=79.0000\n",
      "epoch=4600, 기울기=2.3000  절편=79.0000\n",
      "epoch=4700, 기울기=2.3000  절편=79.0000\n",
      "epoch=4800, 기울기=2.3000  절편=79.0000\n",
      "epoch=4900, 기울기=2.3000  절편=79.0000\n",
      "epoch=5000, 기울기=2.3000  절편=79.0000\n",
      "epoch=5100, 기울기=2.3000  절편=79.0000\n",
      "epoch=5200, 기울기=2.3000  절편=79.0000\n",
      "epoch=5300, 기울기=2.3000  절편=79.0000\n",
      "epoch=5400, 기울기=2.3000  절편=79.0000\n",
      "epoch=5500, 기울기=2.3000  절편=79.0000\n",
      "epoch=5600, 기울기=2.3000  절편=79.0000\n",
      "epoch=5700, 기울기=2.3000  절편=79.0000\n",
      "epoch=5800, 기울기=2.3000  절편=79.0000\n",
      "epoch=5900, 기울기=2.3000  절편=79.0000\n",
      "epoch=6000, 기울기=2.3000  절편=79.0000\n",
      "epoch=6100, 기울기=2.3000  절편=79.0000\n",
      "epoch=6200, 기울기=2.3000  절편=79.0000\n",
      "epoch=6300, 기울기=2.3000  절편=79.0000\n",
      "epoch=6400, 기울기=2.3000  절편=79.0000\n",
      "epoch=6500, 기울기=2.3000  절편=79.0000\n",
      "epoch=6600, 기울기=2.3000  절편=79.0000\n",
      "epoch=6700, 기울기=2.3000  절편=79.0000\n",
      "epoch=6800, 기울기=2.3000  절편=79.0000\n",
      "epoch=6900, 기울기=2.3000  절편=79.0000\n",
      "epoch=7000, 기울기=2.3000  절편=79.0000\n",
      "epoch=7100, 기울기=2.3000  절편=79.0000\n",
      "epoch=7200, 기울기=2.3000  절편=79.0000\n",
      "epoch=7300, 기울기=2.3000  절편=79.0000\n",
      "epoch=7400, 기울기=2.3000  절편=79.0000\n",
      "epoch=7500, 기울기=2.3000  절편=79.0000\n",
      "epoch=7600, 기울기=2.3000  절편=79.0000\n",
      "epoch=7700, 기울기=2.3000  절편=79.0000\n",
      "epoch=7800, 기울기=2.3000  절편=79.0000\n",
      "epoch=7900, 기울기=2.3000  절편=79.0000\n",
      "epoch=8000, 기울기=2.3000  절편=79.0000\n",
      "epoch=8100, 기울기=2.3000  절편=79.0000\n",
      "epoch=8200, 기울기=2.3000  절편=79.0000\n",
      "epoch=8300, 기울기=2.3000  절편=79.0000\n",
      "epoch=8400, 기울기=2.3000  절편=79.0000\n",
      "epoch=8500, 기울기=2.3000  절편=79.0000\n",
      "epoch=8600, 기울기=2.3000  절편=79.0000\n",
      "epoch=8700, 기울기=2.3000  절편=79.0000\n",
      "epoch=8800, 기울기=2.3000  절편=79.0000\n",
      "epoch=8900, 기울기=2.3000  절편=79.0000\n",
      "epoch=9000, 기울기=2.3000  절편=79.0000\n",
      "epoch=9100, 기울기=2.3000  절편=79.0000\n",
      "epoch=9200, 기울기=2.3000  절편=79.0000\n",
      "epoch=9300, 기울기=2.3000  절편=79.0000\n",
      "epoch=9400, 기울기=2.3000  절편=79.0000\n",
      "epoch=9500, 기울기=2.3000  절편=79.0000\n",
      "epoch=9600, 기울기=2.3000  절편=79.0000\n",
      "epoch=9700, 기울기=2.3000  절편=79.0000\n",
      "epoch=9800, 기울기=2.3000  절편=79.0000\n",
      "epoch=9900, 기울기=2.3000  절편=79.0000\n"
     ]
    }
   ],
   "source": [
    "a=0\n",
    "b=0\n",
    "\n",
    "lr=0.03\n",
    "epochs = 10000\n",
    "\n",
    "for i in range(epochs):\n",
    "    # 예측값과 오차계산\n",
    "    predict_y = a * X_data + b\n",
    "    err = Y_data - predict_y\n",
    "    \n",
    "    # 편미분 연산\n",
    "    a_diff = -(1/len(X_data)) * sum(X_data * err)\n",
    "    b_diff = -(1/len(X_data)) * sum(err)\n",
    "    \n",
    "    # 가중치와 절편 업데이트\n",
    "    a -= lr * a_diff\n",
    "    b -= lr * b_diff\n",
    "    \n",
    "    if i % 100 == 0:\n",
    "        print('epoch=%.f, 기울기=%.04f  절편=%.04f' %(i,a,b))"
   ]
  },
  {
   "cell_type": "code",
   "execution_count": null,
   "id": "d521cb21",
   "metadata": {},
   "outputs": [],
   "source": []
  },
  {
   "cell_type": "code",
   "execution_count": null,
   "id": "809d662a",
   "metadata": {},
   "outputs": [],
   "source": []
  },
  {
   "cell_type": "markdown",
   "id": "412213f5",
   "metadata": {},
   "source": [
    "## fish 데이터로 해보기"
   ]
  },
  {
   "cell_type": "code",
   "execution_count": 22,
   "id": "1cdd1b0e",
   "metadata": {},
   "outputs": [],
   "source": [
    "import numpy as np\n",
    "import pandas as pd\n",
    "import matplotlib.pyplot as plt"
   ]
  },
  {
   "cell_type": "code",
   "execution_count": 23,
   "id": "db69caf3",
   "metadata": {},
   "outputs": [],
   "source": [
    "bream_length = [25.4, 26.3, 26.5, 29.0, 29.0, 29.7, 29.7, 30.0, 30.0, 30.7, 31.0, 31.0, 31.5, 32.0, 32.0, 32.0, 33.0, 33.0, 33.5, 33.5, 34.0, 34.0, 34.5, 35.0, 35.0, 35.0, 35.0, 36.0, 36.0, 37.0, 38.5, 38.5, 39.5, 41.0, 41.0]\n",
    "\n",
    "bream_weight = [242.0, 290.0, 340.0, 363.0, 430.0, 450.0, 500.0, 390.0, 450.0, 500.0, 475.0, 500.0, \n",
    "                500.0, 340.0, 600.0, 600.0, 700.0, 700.0, 610.0, 650.0, 575.0, 685.0, 620.0, 680.0, \n",
    "                700.0, 725.0, 720.0, 714.0, 850.0, 1000.0, 920.0, 955.0, 925.0, 975.0, 950.0]\n",
    "\n",
    "\n",
    "smelt_length = [9.8, 10.5, 10.6, 11.0, 11.2, 11.3, 11.8, 11.8, 12.0, 12.2, 12.4, 13.0, 14.3, 15.0]\n",
    "smelt_weight = [6.7, 7.5, 7.0, 9.7, 9.8, 8.7, 10.0, 9.9, 9.8, 12.2, 13.4, 12.2, 19.7, 19.9]"
   ]
  },
  {
   "cell_type": "code",
   "execution_count": 26,
   "id": "57963f70",
   "metadata": {},
   "outputs": [],
   "source": [
    "length = bream_length + smelt_length\n",
    "weight = bream_weight + smelt_weight"
   ]
  },
  {
   "cell_type": "code",
   "execution_count": 27,
   "id": "15a780fe",
   "metadata": {},
   "outputs": [
    {
     "name": "stdout",
     "output_type": "stream",
     "text": [
      "[[25.4, 242.0], [26.3, 290.0], [26.5, 340.0], [29.0, 363.0], [29.0, 430.0], [29.7, 450.0], [29.7, 500.0], [30.0, 390.0], [30.0, 450.0], [30.7, 500.0], [31.0, 475.0], [31.0, 500.0], [31.5, 500.0], [32.0, 340.0], [32.0, 600.0], [32.0, 600.0], [33.0, 700.0], [33.0, 700.0], [33.5, 610.0], [33.5, 650.0], [34.0, 575.0], [34.0, 685.0], [34.5, 620.0], [35.0, 680.0], [35.0, 700.0], [35.0, 725.0], [35.0, 720.0], [36.0, 714.0], [36.0, 850.0], [37.0, 1000.0], [38.5, 920.0], [38.5, 955.0], [39.5, 925.0], [41.0, 975.0], [41.0, 950.0], [9.8, 6.7], [10.5, 7.5], [10.6, 7.0], [11.0, 9.7], [11.2, 9.8], [11.3, 8.7], [11.8, 10.0], [11.8, 9.9], [12.0, 9.8], [12.2, 12.2], [12.4, 13.4], [13.0, 12.2], [14.3, 19.7], [15.0, 19.9]]\n"
     ]
    }
   ],
   "source": [
    "fish_data = [[l,w] for l,w in zip(length, weight)]\n",
    "print(fish_data)"
   ]
  },
  {
   "cell_type": "code",
   "execution_count": 28,
   "id": "4e3aa733",
   "metadata": {},
   "outputs": [],
   "source": [
    "from sklearn.neighbors import KNeighborsClassifier"
   ]
  },
  {
   "cell_type": "code",
   "execution_count": 29,
   "id": "f052db6e",
   "metadata": {},
   "outputs": [],
   "source": [
    "X = [i[0] for i in fish_data]\n",
    "Y = [i[1] for i in fish_data]"
   ]
  },
  {
   "cell_type": "code",
   "execution_count": 30,
   "id": "ea9f0b1a",
   "metadata": {},
   "outputs": [
    {
     "name": "stdout",
     "output_type": "stream",
     "text": [
      "[25.4, 26.3, 26.5, 29.0, 29.0, 29.7, 29.7, 30.0, 30.0, 30.7, 31.0, 31.0, 31.5, 32.0, 32.0, 32.0, 33.0, 33.0, 33.5, 33.5, 34.0, 34.0, 34.5, 35.0, 35.0, 35.0, 35.0, 36.0, 36.0, 37.0, 38.5, 38.5, 39.5, 41.0, 41.0, 9.8, 10.5, 10.6, 11.0, 11.2, 11.3, 11.8, 11.8, 12.0, 12.2, 12.4, 13.0, 14.3, 15.0]\n",
      "[242.0, 290.0, 340.0, 363.0, 430.0, 450.0, 500.0, 390.0, 450.0, 500.0, 475.0, 500.0, 500.0, 340.0, 600.0, 600.0, 700.0, 700.0, 610.0, 650.0, 575.0, 685.0, 620.0, 680.0, 700.0, 725.0, 720.0, 714.0, 850.0, 1000.0, 920.0, 955.0, 925.0, 975.0, 950.0, 6.7, 7.5, 7.0, 9.7, 9.8, 8.7, 10.0, 9.9, 9.8, 12.2, 13.4, 12.2, 19.7, 19.9]\n"
     ]
    }
   ],
   "source": [
    "print(X)\n",
    "print(Y)"
   ]
  },
  {
   "cell_type": "code",
   "execution_count": 31,
   "id": "30acd86c",
   "metadata": {},
   "outputs": [
    {
     "data": {
      "image/png": "[encoded data removed]",
      "text/plain": [
       "<Figure size 432x288 with 1 Axes>"
      ]
     },
     "metadata": {
      "needs_background": "light"
     },
     "output_type": "display_data"
    }
   ],
   "source": [
    "# 산점도 그리기\n",
    "plt.figure(figsize=(6,4))\n",
    "plt.scatter(X,Y)\n",
    "plt.show()\n"
   ]
  },
  {
   "cell_type": "code",
   "execution_count": 32,
   "id": "518782c2",
   "metadata": {},
   "outputs": [],
   "source": [
    "# 평균 구하기\n",
    "meanx=np.mean(X)\n",
    "meany=np.mean(Y)"
   ]
  },
  {
   "cell_type": "code",
   "execution_count": 33,
   "id": "f12eed06",
   "metadata": {},
   "outputs": [],
   "source": [
    "# 최소제곱법에서 분모가 되는 값 구하기\n",
    "diffx = sum([(i-meanx)**2 for i in X])"
   ]
  },
  {
   "cell_type": "code",
   "execution_count": 34,
   "id": "041f69b1",
   "metadata": {},
   "outputs": [
    {
     "name": "stdout",
     "output_type": "stream",
     "text": [
      "분모 :  5035.921224489796\n",
      "분자 :  154935.76\n",
      "기울기 :  30.766120654656785\n",
      "절편 :  -387.88053371180604\n"
     ]
    }
   ],
   "source": [
    "# 최소제곱법에서 분자가 되는 값 구하기\n",
    "def top(X, meanx, Y, meany):\n",
    "    diffvalue = 0\n",
    "    \n",
    "    for i in range(len(X)):\n",
    "        diffvalue += (X[i] - meanx) * (Y[i] - meany)\n",
    "    return diffvalue\n",
    "\n",
    "diffnum = top(X, meanx, Y, meany)\n",
    "\n",
    "print(\"분모 : \", diffx)\n",
    "print(\"분자 : \", diffnum)\n",
    "\n",
    "a = diffnum / diffx\n",
    "b = meany - (meanx * a)\n",
    "\n",
    "print(\"기울기 : \", a)\n",
    "print(\"절편 : \", b)"
   ]
  },
  {
   "cell_type": "code",
   "execution_count": 36,
   "id": "11d82100",
   "metadata": {},
   "outputs": [
    {
     "name": "stdout",
     "output_type": "stream",
     "text": [
      "[25.4 26.3 26.5 29.  29.  29.7 29.7 30.  30.  30.7 31.  31.  31.5 32.\n",
      " 32.  32.  33.  33.  33.5 33.5 34.  34.  34.5 35.  35.  35.  35.  36.\n",
      " 36.  37.  38.5 38.5 39.5 41.  41.   9.8 10.5 10.6 11.  11.2 11.3 11.8\n",
      " 11.8 12.  12.2 12.4 13.  14.3 15. ]\n",
      "[ 242.   290.   340.   363.   430.   450.   500.   390.   450.   500.\n",
      "  475.   500.   500.   340.   600.   600.   700.   700.   610.   650.\n",
      "  575.   685.   620.   680.   700.   725.   720.   714.   850.  1000.\n",
      "  920.   955.   925.   975.   950.     6.7    7.5    7.     9.7    9.8\n",
      "    8.7   10.     9.9    9.8   12.2   13.4   12.2   19.7   19.9]\n"
     ]
    }
   ],
   "source": [
    "# 데이터 넘파이로 변환\n",
    "X_data=np.array(X)\n",
    "Y_data=np.array(Y)\n",
    "\n",
    "print(X_data)\n",
    "print(Y_data)"
   ]
  },
  {
   "cell_type": "code",
   "execution_count": 37,
   "id": "ddf35b1b",
   "metadata": {},
   "outputs": [],
   "source": [
    "# 가중치와 절편 초기화\n",
    "a = 0\n",
    "b = 0\n"
   ]
  },
  {
   "cell_type": "code",
   "execution_count": 38,
   "id": "dddc8210",
   "metadata": {},
   "outputs": [],
   "source": [
    "# 학습률과 학습 반복횟수 설정\n",
    "lr = 0.0028\n",
    "epochs =10000\n"
   ]
  },
  {
   "cell_type": "code",
   "execution_count": 39,
   "id": "aa011b5a",
   "metadata": {},
   "outputs": [
    {
     "name": "stdout",
     "output_type": "stream",
     "text": [
      "epoch=0, 기울기=42.5263, 절편=1.2446\n",
      "epoch=100, 기울기=122814647668832.8438, 절편=3981123345507.1860\n",
      "epoch=200, 기울기=619485968082039218255167488.0000, 절편=20081074176135327171739648.0000\n",
      "epoch=300, 기울기=3124732040801858403421037256533832892416.0000, 절편=101290390944866491997692632812161597440.0000\n",
      "epoch=400, 기울기=15761374478010365837415390913365843975990039061463040.0000, 절편=510916059956434523187812746684601356724708164239360.0000\n",
      "epoch=500, 기울기=79501513151293544045583471573002065210042458516408528017807114240.0000, 절편=2577097569536396217714347868005393381884083606547907324781002752.0000\n",
      "epoch=600, 기울기=401011384011173895787370711080321788945496847709735103900962884347575383621632.0000, 절편=12999066585373645646184708752047098181740878816230452352730073139109162909696.0000\n",
      "epoch=700, 기울기=2022730432822471456297845303121544479691059283939773703052358415253025092092209973134622720.0000, 절편=65568232296837561080860281931978925178723286860355243240453482682881077761576404848214016.0000\n",
      "epoch=800, 기울기=10202798641128165342416572899614998084238096888951383396297499090257181777849851914130971275888567517184.0000, 절편=330730907353715096287022171631590984176298216633546312365775984136928305946255713643952031996751904768.0000\n",
      "epoch=900, 기울기=51463654485166702810495255694031322998706011744008987764576217769251692451345078048783770549922047426279398109609984.0000, 절편=1668230623998204373261613145010880739970396403456795173050020603478485904300663506836306021877699637058281647636480.0000\n",
      "epoch=1000, 기울기=259586396451294456095683921932988099233123860269677809021595023403771656741386944907414143430644937703384887527651709082725777408.0000, 절편=8414675958509826192519543261100175226684734201130040862765424650294184255256986366524608331918498721542455016184891908590403584.0000\n",
      "epoch=1100, 기울기=1309372563932284462278024517871850866095240440153184151753275712489007824977943648902205585736548218782634782379632278003449768499475239665664.0000, 절편=42444234309175824216588753472489351497618897842068098705680238257487865733013450125610272595612054520187897728107057280198180805217735409664.0000\n",
      "epoch=1200, 기울기=6604569941323175502834397473258164097016928527081914130810478772538251537079792664880014930492447860041216349172413011611824237140226942488005989707546624.0000, 절편=214091788557865222827340968992125409189063669479987370962689994344234287738289906281732952922262377599277843414981171334684517551007460661221214948163584.0000\n",
      "epoch=1300, 기울기=33313928603200454062059195558998675311828864337000886058188849301534981398750688966094742549962442695308817807105531284830541892231426305510981184434110941942215868416.0000, 절편=1079894470330845944531600384694743867799798693135343472964723655782425269395908830016593473917017505405126155446727220565441347596593780328849767583178488423796178944.0000\n",
      "epoch=1400, 기울기=168037866028987648278321926487502144293585497754811777544406103189750960514382052496054582997481558115383973878991547928482511816432039774290543023295750095837876992617013466628096.0000, 절편=5447065835203427653908084744202818403800689950522840809485748588943153914823687404604343863797198578998276018472944629528473829285993680017292555665078763719890256169665057259520.0000\n",
      "epoch=1500, 기울기=847595153243597426269222297857389268275657929997923335754592165492849960418793717719719608495110673603030132573233018685677917127405078926051976697807767380454470208067125330591359209517875200.0000, 절편=27475394150273032972515826070073998007625429289849098007884178794926756817800076362984596747049076178581786649489124836558610187607415061929941654468981980584589566606272437057376250847297536.0000\n",
      "epoch=1600, 기울기=4275331273714874034780176429540177375420163456331839500414704177122598102258299445140130362670354477311789690808451702500906843255911278114551656116094818258076706985412648858948262162315985356283659157504.0000, 절편=138587875849433116179199790547867099335569734959742677000160966953016487378356755072375723414318370406475609552059999829965242265135263395512403216895311059045680436108307463604563061079474658848008044544.0000\n",
      "epoch=1700, 기울기=21565080250938131024793721617885710005565855616888599179139814386195727335335824857260258450116803413691092663139400052591773226735518961015312586000594651839653385062700780816845348897850459277977895926746866723586048.0000, 절편=699047272166866631573223635273985670898383027355753417491068992175392079588334166222082231854534479457860159409502903670928241497923704468104163535601031435936521078811948560415438971111181128093515964926405625511936.0000\n",
      "epoch=1800, 기울기=108775824949188247056423576365426536929862431329828848694419743009271947642387692134000419784620016492790127081772781828989280505903237381955661847099846434794139971954643904934882802953948536732837768846501088612009117126945144832.0000, 절편=3526045014607479446248963824718936288778648664699463777876445960514686173737241743921830690882942775283483075411855928481805986897877134282593771263244750958758770837372520569016639713011035055247481623401228529831290571356897280.0000\n",
      "epoch=1900, 기울기=548673130621050611522149757202372543495619388870903831194354864130269395204122228925372501300255420745193510007980746411175726182070265553169793168383415248931844662160847971898299525645231301465131434832133194007369188454527667859482619150336.0000, 절편=17785626151575069050803024851805956685536747963546255560456791176073077724506441416771208460098420392747596699153116384372580245645863689490524425798960750235615496783930348133415927981099490227984960607379340317349006163228641454941324443648.0000\n",
      "epoch=2000, 기울기=2767546965570055954852400055776725092115032079876946292069180471013220560840232470418163738215532066809622374871671657051972012205213653499934692704705687179032317317225123590151958474491168606892407715928748181631460934167941918167469254996717048084561920.0000, 절편=89711985040782553654621713866766018910401597508094523416539094988403813124645853097038747905848952798876321047849231948667900988266714205306927709784139302458259820242312586924143045183561015776432926863187124485672358471512320485695729298121165788676096.0000\n",
      "epoch=2100, 기울기=13959707117362151505850358653722516791555153273886437523934245119660360145752815989896141119499550815136348959725430718810151946265713498272101863638854745099996718506098857331644291330330263793849543483807804722555018290097170335518615463653421783930847122516116242432.0000, 절편=452513742916207391129665864919720202992057894259952046908064028321358401065679239729533081806558773318156965286228820308063426624959219310379311741446565793993656787782867779848992533368135143818825874193567776828630820290706229527479631055567713326412164237075939328.0000\n",
      "epoch=2200, 기울기=70413772639406649023962656128089787902215827901378000581451800317580895991182595358144836031077973219844639323662485628326998063514890674338982104838077424716350778405609812281084273285545127228108607453678331506056576583366422222284805275378715855689024015885610981075199121686528.0000, 절편=2282512057167691068894496013034713092809715745618097236629546966965874267187642901942449257604420286875166510305848566984893208599418624687709493873279101407298014053449432878884334968310739104180800108156284312259126368517769273824962446019754035409828374335434831414520962875392.0000\n",
      "epoch=2300, 기울기=355172163400728062037389003499851242004853384520377389826228471483136451447007286846402270917371395627362208481860027042141656020415684407002008728236039383846066885830462513057780214365031229850449687681408222896353938974932664367730367953667974160458226940116233972643421488953976460316508160.0000, 절편=11513155948681558583785430191738826452965093706476157884295126834661996869133079549389249428813637413415353250892561202273981363664298827415599861601866977939092303176556568144107316294568399372208352126451106241094200818037976702718198914035178956106222710629839335002231029378754137204719616.0000\n",
      "epoch=2400, 기울기=nan, 절편=nan\n",
      "epoch=2500, 기울기=nan, 절편=nan\n",
      "epoch=2600, 기울기=nan, 절편=nan\n",
      "epoch=2700, 기울기=nan, 절편=nan\n",
      "epoch=2800, 기울기=nan, 절편=nan\n",
      "epoch=2900, 기울기=nan, 절편=nan\n",
      "epoch=3000, 기울기=nan, 절편=nan\n",
      "epoch=3100, 기울기=nan, 절편=nan\n",
      "epoch=3200, 기울기=nan, 절편=nan\n",
      "epoch=3300, 기울기=nan, 절편=nan\n",
      "epoch=3400, 기울기=nan, 절편=nan\n",
      "epoch=3500, 기울기=nan, 절편=nan\n",
      "epoch=3600, 기울기=nan, 절편=nan\n",
      "epoch=3700, 기울기=nan, 절편=nan\n",
      "epoch=3800, 기울기=nan, 절편=nan\n",
      "epoch=3900, 기울기=nan, 절편=nan\n",
      "epoch=4000, 기울기=nan, 절편=nan\n",
      "epoch=4100, 기울기=nan, 절편=nan\n",
      "epoch=4200, 기울기=nan, 절편=nan\n",
      "epoch=4300, 기울기=nan, 절편=nan\n",
      "epoch=4400, 기울기=nan, 절편=nan\n",
      "epoch=4500, 기울기=nan, 절편=nan\n",
      "epoch=4600, 기울기=nan, 절편=nan\n",
      "epoch=4700, 기울기=nan, 절편=nan\n",
      "epoch=4800, 기울기=nan, 절편=nan\n",
      "epoch=4900, 기울기=nan, 절편=nan\n",
      "epoch=5000, 기울기=nan, 절편=nan\n",
      "epoch=5100, 기울기=nan, 절편=nan\n",
      "epoch=5200, 기울기=nan, 절편=nan\n",
      "epoch=5300, 기울기=nan, 절편=nan\n",
      "epoch=5400, 기울기=nan, 절편=nan\n",
      "epoch=5500, 기울기=nan, 절편=nan\n",
      "epoch=5600, 기울기=nan, 절편=nan\n",
      "epoch=5700, 기울기=nan, 절편=nan\n",
      "epoch=5800, 기울기=nan, 절편=nan\n",
      "epoch=5900, 기울기=nan, 절편=nan\n",
      "epoch=6000, 기울기=nan, 절편=nan\n",
      "epoch=6100, 기울기=nan, 절편=nan\n",
      "epoch=6200, 기울기=nan, 절편=nan\n",
      "epoch=6300, 기울기=nan, 절편=nan\n",
      "epoch=6400, 기울기=nan, 절편=nan\n",
      "epoch=6500, 기울기=nan, 절편=nan\n",
      "epoch=6600, 기울기=nan, 절편=nan\n",
      "epoch=6700, 기울기=nan, 절편=nan\n",
      "epoch=6800, 기울기=nan, 절편=nan\n",
      "epoch=6900, 기울기=nan, 절편=nan\n",
      "epoch=7000, 기울기=nan, 절편=nan\n",
      "epoch=7100, 기울기=nan, 절편=nan\n",
      "epoch=7200, 기울기=nan, 절편=nan\n",
      "epoch=7300, 기울기=nan, 절편=nan\n",
      "epoch=7400, 기울기=nan, 절편=nan\n",
      "epoch=7500, 기울기=nan, 절편=nan\n",
      "epoch=7600, 기울기=nan, 절편=nan\n",
      "epoch=7700, 기울기=nan, 절편=nan\n",
      "epoch=7800, 기울기=nan, 절편=nan\n",
      "epoch=7900, 기울기=nan, 절편=nan\n",
      "epoch=8000, 기울기=nan, 절편=nan\n",
      "epoch=8100, 기울기=nan, 절편=nan\n",
      "epoch=8200, 기울기=nan, 절편=nan\n",
      "epoch=8300, 기울기=nan, 절편=nan\n",
      "epoch=8400, 기울기=nan, 절편=nan\n",
      "epoch=8500, 기울기=nan, 절편=nan\n",
      "epoch=8600, 기울기=nan, 절편=nan\n",
      "epoch=8700, 기울기=nan, 절편=nan\n",
      "epoch=8800, 기울기=nan, 절편=nan\n",
      "epoch=8900, 기울기=nan, 절편=nan\n",
      "epoch=9000, 기울기=nan, 절편=nan\n"
     ]
    },
    {
     "name": "stderr",
     "output_type": "stream",
     "text": [
      "C:\\Users\\2106-010\\AppData\\Local\\Temp/ipykernel_3172/985019185.py:6: RuntimeWarning: overflow encountered in double_scalars\n",
      "  a_diff = -(1/len(X_data)) * sum(X_data * err)\n",
      "C:\\Users\\2106-010\\AppData\\Local\\Temp/ipykernel_3172/985019185.py:10: RuntimeWarning: invalid value encountered in double_scalars\n",
      "  a -= lr * a_diff\n"
     ]
    },
    {
     "name": "stdout",
     "output_type": "stream",
     "text": [
      "epoch=9100, 기울기=nan, 절편=nan\n",
      "epoch=9200, 기울기=nan, 절편=nan\n",
      "epoch=9300, 기울기=nan, 절편=nan\n",
      "epoch=9400, 기울기=nan, 절편=nan\n",
      "epoch=9500, 기울기=nan, 절편=nan\n",
      "epoch=9600, 기울기=nan, 절편=nan\n",
      "epoch=9700, 기울기=nan, 절편=nan\n",
      "epoch=9800, 기울기=nan, 절편=nan\n",
      "epoch=9900, 기울기=nan, 절편=nan\n"
     ]
    }
   ],
   "source": [
    "for i in range(epochs):\n",
    "    predict_y = a * X_data + b\n",
    "    err = Y_data - predict_y\n",
    "    \n",
    "    # 편미분 연산\n",
    "    a_diff = -(1/len(X_data)) * sum(X_data * err)\n",
    "    b_diff = -(1/len(Y_data)) * sum(err)\n",
    "    \n",
    "    # 가중치와 절편 업데이트\n",
    "    a -= lr * a_diff\n",
    "    b -= lr * b_diff\n",
    "    \n",
    "    if i%100 == 0:\n",
    "        print(\"epoch=%.f, 기울기=%.04f, 절편=%.04f\" % (i,a,b))"
   ]
  },
  {
   "cell_type": "code",
   "execution_count": null,
   "id": "35c79081",
   "metadata": {},
   "outputs": [],
   "source": []
  },
  {
   "cell_type": "code",
   "execution_count": 41,
   "id": "1a851e2b",
   "metadata": {},
   "outputs": [
    {
     "name": "stdout",
     "output_type": "stream",
     "text": [
      "epoch=0, 기울기=42.5263, 절편=1.2446\n",
      "epoch=100, 기울기=122814647668832.8438, 절편=3981123345507.1860\n",
      "epoch=200, 기울기=619485968082039218255167488.0000, 절편=20081074176135327171739648.0000\n",
      "epoch=300, 기울기=3124732040801858403421037256533832892416.0000, 절편=101290390944866491997692632812161597440.0000\n",
      "epoch=400, 기울기=15761374478010365837415390913365843975990039061463040.0000, 절편=510916059956434523187812746684601356724708164239360.0000\n",
      "epoch=500, 기울기=79501513151293544045583471573002065210042458516408528017807114240.0000, 절편=2577097569536396217714347868005393381884083606547907324781002752.0000\n",
      "epoch=600, 기울기=401011384011173895787370711080321788945496847709735103900962884347575383621632.0000, 절편=12999066585373645646184708752047098181740878816230452352730073139109162909696.0000\n",
      "epoch=700, 기울기=2022730432822471456297845303121544479691059283939773703052358415253025092092209973134622720.0000, 절편=65568232296837561080860281931978925178723286860355243240453482682881077761576404848214016.0000\n",
      "epoch=800, 기울기=10202798641128165342416572899614998084238096888951383396297499090257181777849851914130971275888567517184.0000, 절편=330730907353715096287022171631590984176298216633546312365775984136928305946255713643952031996751904768.0000\n",
      "epoch=900, 기울기=51463654485166702810495255694031322998706011744008987764576217769251692451345078048783770549922047426279398109609984.0000, 절편=1668230623998204373261613145010880739970396403456795173050020603478485904300663506836306021877699637058281647636480.0000\n",
      "epoch=1000, 기울기=259586396451294456095683921932988099233123860269677809021595023403771656741386944907414143430644937703384887527651709082725777408.0000, 절편=8414675958509826192519543261100175226684734201130040862765424650294184255256986366524608331918498721542455016184891908590403584.0000\n",
      "epoch=1100, 기울기=1309372563932284462278024517871850866095240440153184151753275712489007824977943648902205585736548218782634782379632278003449768499475239665664.0000, 절편=42444234309175824216588753472489351497618897842068098705680238257487865733013450125610272595612054520187897728107057280198180805217735409664.0000\n",
      "epoch=1200, 기울기=6604569941323175502834397473258164097016928527081914130810478772538251537079792664880014930492447860041216349172413011611824237140226942488005989707546624.0000, 절편=214091788557865222827340968992125409189063669479987370962689994344234287738289906281732952922262377599277843414981171334684517551007460661221214948163584.0000\n",
      "epoch=1300, 기울기=33313928603200454062059195558998675311828864337000886058188849301534981398750688966094742549962442695308817807105531284830541892231426305510981184434110941942215868416.0000, 절편=1079894470330845944531600384694743867799798693135343472964723655782425269395908830016593473917017505405126155446727220565441347596593780328849767583178488423796178944.0000\n",
      "epoch=1400, 기울기=168037866028987648278321926487502144293585497754811777544406103189750960514382052496054582997481558115383973878991547928482511816432039774290543023295750095837876992617013466628096.0000, 절편=5447065835203427653908084744202818403800689950522840809485748588943153914823687404604343863797198578998276018472944629528473829285993680017292555665078763719890256169665057259520.0000\n",
      "epoch=1500, 기울기=847595153243597426269222297857389268275657929997923335754592165492849960418793717719719608495110673603030132573233018685677917127405078926051976697807767380454470208067125330591359209517875200.0000, 절편=27475394150273032972515826070073998007625429289849098007884178794926756817800076362984596747049076178581786649489124836558610187607415061929941654468981980584589566606272437057376250847297536.0000\n",
      "epoch=1600, 기울기=4275331273714874034780176429540177375420163456331839500414704177122598102258299445140130362670354477311789690808451702500906843255911278114551656116094818258076706985412648858948262162315985356283659157504.0000, 절편=138587875849433116179199790547867099335569734959742677000160966953016487378356755072375723414318370406475609552059999829965242265135263395512403216895311059045680436108307463604563061079474658848008044544.0000\n",
      "epoch=1700, 기울기=21565080250938131024793721617885710005565855616888599179139814386195727335335824857260258450116803413691092663139400052591773226735518961015312586000594651839653385062700780816845348897850459277977895926746866723586048.0000, 절편=699047272166866631573223635273985670898383027355753417491068992175392079588334166222082231854534479457860159409502903670928241497923704468104163535601031435936521078811948560415438971111181128093515964926405625511936.0000\n",
      "epoch=1800, 기울기=108775824949188247056423576365426536929862431329828848694419743009271947642387692134000419784620016492790127081772781828989280505903237381955661847099846434794139971954643904934882802953948536732837768846501088612009117126945144832.0000, 절편=3526045014607479446248963824718936288778648664699463777876445960514686173737241743921830690882942775283483075411855928481805986897877134282593771263244750958758770837372520569016639713011035055247481623401228529831290571356897280.0000\n",
      "epoch=1900, 기울기=548673130621050611522149757202372543495619388870903831194354864130269395204122228925372501300255420745193510007980746411175726182070265553169793168383415248931844662160847971898299525645231301465131434832133194007369188454527667859482619150336.0000, 절편=17785626151575069050803024851805956685536747963546255560456791176073077724506441416771208460098420392747596699153116384372580245645863689490524425798960750235615496783930348133415927981099490227984960607379340317349006163228641454941324443648.0000\n",
      "epoch=2000, 기울기=2767546965570055954852400055776725092115032079876946292069180471013220560840232470418163738215532066809622374871671657051972012205213653499934692704705687179032317317225123590151958474491168606892407715928748181631460934167941918167469254996717048084561920.0000, 절편=89711985040782553654621713866766018910401597508094523416539094988403813124645853097038747905848952798876321047849231948667900988266714205306927709784139302458259820242312586924143045183561015776432926863187124485672358471512320485695729298121165788676096.0000\n",
      "epoch=2100, 기울기=13959707117362151505850358653722516791555153273886437523934245119660360145752815989896141119499550815136348959725430718810151946265713498272101863638854745099996718506098857331644291330330263793849543483807804722555018290097170335518615463653421783930847122516116242432.0000, 절편=452513742916207391129665864919720202992057894259952046908064028321358401065679239729533081806558773318156965286228820308063426624959219310379311741446565793993656787782867779848992533368135143818825874193567776828630820290706229527479631055567713326412164237075939328.0000\n"
     ]
    }
   ],
   "source": [
    "a = 0\n",
    "b = 0\n",
    "\n",
    "lr = 0.0028\n",
    "epochs =2200\n",
    "\n",
    "for i in range(epochs):\n",
    "    predict_y = a * X_data + b\n",
    "    err = Y_data - predict_y\n",
    "    \n",
    "    # 편미분 연산\n",
    "    a_diff = -(1/len(X_data)) * sum(X_data * err)\n",
    "    b_diff = -(1/len(Y_data)) * sum(err)\n",
    "    \n",
    "    # 가중치와 절편 업데이트\n",
    "    a -= lr * a_diff\n",
    "    b -= lr * b_diff\n",
    "    \n",
    "    if i%100 == 0:\n",
    "        print(\"epoch=%.f, 기울기=%.04f, 절편=%.04f\" % (i,a,b))"
   ]
  },
  {
   "cell_type": "code",
   "execution_count": null,
   "id": "e13d0425",
   "metadata": {},
   "outputs": [],
   "source": []
  },
  {
   "cell_type": "code",
   "execution_count": null,
   "id": "35a43042",
   "metadata": {},
   "outputs": [],
   "source": []
  },
  {
   "cell_type": "code",
   "execution_count": null,
   "id": "a3627c93",
   "metadata": {},
   "outputs": [],
   "source": []
  },
  {
   "cell_type": "code",
   "execution_count": null,
   "id": "1341261a",
   "metadata": {},
   "outputs": [],
   "source": []
  }
 ],
 "metadata": {
  "kernelspec": {
   "display_name": "Python 3 (ipykernel)",
   "language": "python",
   "name": "python3"
  },
  "language_info": {
   "codemirror_mode": {
    "name": "ipython",
    "version": 3
   },
   "file_extension": ".py",
   "mimetype": "text/x-python",
   "name": "python",
   "nbconvert_exporter": "python",
   "pygments_lexer": "ipython3",
   "version": "3.9.7"
  }
 },
 "nbformat": 4,
 "nbformat_minor": 5
}
