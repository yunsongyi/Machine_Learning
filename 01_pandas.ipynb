{
  "nbformat": 4,
  "nbformat_minor": 0,
  "metadata": {
    "colab": {
      "name": "21.11.23_pandas_실습.ipynb",
      "provenance": [],
      "collapsed_sections": []
    },
    "kernelspec": {
      "name": "python3",
      "display_name": "Python 3"
    },
    "language_info": {
      "name": "python"
    }
  },
  "cells": [
    {
      "cell_type": "code",
      "metadata": {
        "colab": {
          "base_uri": "https://localhost:8080/"
        },
        "id": "_YV1QUtYOIZu",
        "outputId": "67d5a343-8d19-4e94-9a08-7d474eba92c0"
      },
      "source": [
        "!pip install pandas"
      ],
      "execution_count": null,
      "outputs": [
        {
          "output_type": "stream",
          "name": "stdout",
          "text": [
            "Requirement already satisfied: pandas in /usr/local/lib/python3.7/dist-packages (1.1.5)\n",
            "Requirement already satisfied: python-dateutil>=2.7.3 in /usr/local/lib/python3.7/dist-packages (from pandas) (2.8.2)\n",
            "Requirement already satisfied: pytz>=2017.2 in /usr/local/lib/python3.7/dist-packages (from pandas) (2018.9)\n",
            "Requirement already satisfied: numpy>=1.15.4 in /usr/local/lib/python3.7/dist-packages (from pandas) (1.19.5)\n",
            "Requirement already satisfied: six>=1.5 in /usr/local/lib/python3.7/dist-packages (from python-dateutil>=2.7.3->pandas) (1.15.0)\n"
          ]
        }
      ]
    },
    {
      "cell_type": "code",
      "metadata": {
        "colab": {
          "base_uri": "https://localhost:8080/"
        },
        "id": "SsRT34yqOMow",
        "outputId": "5b1b9af1-2192-4b3a-87ca-45649d6c496f"
      },
      "source": [
        "import pandas as pd\n",
        "print(pd.__version__)"
      ],
      "execution_count": null,
      "outputs": [
        {
          "output_type": "stream",
          "name": "stdout",
          "text": [
            "1.1.5\n"
          ]
        }
      ]
    },
    {
      "cell_type": "code",
      "metadata": {
        "colab": {
          "base_uri": "https://localhost:8080/"
        },
        "id": "4LB34QVnOXne",
        "outputId": "8ca2771a-31c1-4fe0-870d-c2d117f656ce"
      },
      "source": [
        "!wget https://raw.githubusercontent.com/adeshpande3/Pandas-Tutorial/master/RegularSeasonCompactResults.csv"
      ],
      "execution_count": null,
      "outputs": [
        {
          "output_type": "stream",
          "name": "stdout",
          "text": [
            "--2021-11-23 05:21:03--  https://raw.githubusercontent.com/adeshpande3/Pandas-Tutorial/master/RegularSeasonCompactResults.csv\n",
            "Resolving raw.githubusercontent.com (raw.githubusercontent.com)... 185.199.108.133, 185.199.109.133, 185.199.110.133, ...\n",
            "Connecting to raw.githubusercontent.com (raw.githubusercontent.com)|185.199.108.133|:443... connected.\n",
            "HTTP request sent, awaiting response... 200 OK\n",
            "Length: 4115852 (3.9M) [text/plain]\n",
            "Saving to: ‘RegularSeasonCompactResults.csv’\n",
            "\n",
            "\r          RegularSe   0%[                    ]       0  --.-KB/s               \rRegularSeasonCompac 100%[===================>]   3.92M  --.-KB/s    in 0.07s   \n",
            "\n",
            "2021-11-23 05:21:03 (53.0 MB/s) - ‘RegularSeasonCompactResults.csv’ saved [4115852/4115852]\n",
            "\n"
          ]
        }
      ]
    },
    {
      "cell_type": "code",
      "metadata": {
        "colab": {
          "base_uri": "https://localhost:8080/"
        },
        "id": "RQVNc72JPYZc",
        "outputId": "dbc39875-b08d-41a5-d147-e299745db985"
      },
      "source": [
        "!head RegularSeasonCompactResults.csv"
      ],
      "execution_count": null,
      "outputs": [
        {
          "output_type": "stream",
          "name": "stdout",
          "text": [
            "Season,Daynum,Wteam,Wscore,Lteam,Lscore,Wloc,Numot\n",
            "1985,20,1228,81,1328,64,N,0\n",
            "1985,25,1106,77,1354,70,H,0\n",
            "1985,25,1112,63,1223,56,H,0\n",
            "1985,25,1165,70,1432,54,H,0\n",
            "1985,25,1192,86,1447,74,H,0\n",
            "1985,25,1218,79,1337,78,H,0\n",
            "1985,25,1228,64,1226,44,N,0\n",
            "1985,25,1242,58,1268,56,N,0\n",
            "1985,25,1260,98,1133,80,H,0\n"
          ]
        }
      ]
    },
    {
      "cell_type": "code",
      "metadata": {
        "id": "t4-u2zvsR4lN"
      },
      "source": [
        "df = pd.read_csv(\"RegularSeasonCompactResults.csv\")"
      ],
      "execution_count": null,
      "outputs": []
    },
    {
      "cell_type": "code",
      "metadata": {
        "colab": {
          "base_uri": "https://localhost:8080/",
          "height": 206
        },
        "id": "STfp5vt9SC92",
        "outputId": "e46ab7bf-b310-4911-9d55-acf52ff2ca72"
      },
      "source": [
        "df.head()"
      ],
      "execution_count": null,
      "outputs": [
        {
          "output_type": "execute_result",
          "data": {
            "text/html": [
              "<div>\n",
              "<style scoped>\n",
              "    .dataframe tbody tr th:only-of-type {\n",
              "        vertical-align: middle;\n",
              "    }\n",
              "\n",
              "    .dataframe tbody tr th {\n",
              "        vertical-align: top;\n",
              "    }\n",
              "\n",
              "    .dataframe thead th {\n",
              "        text-align: right;\n",
              "    }\n",
              "</style>\n",
              "<table border=\"1\" class=\"dataframe\">\n",
              "  <thead>\n",
              "    <tr style=\"text-align: right;\">\n",
              "      <th></th>\n",
              "      <th>Season</th>\n",
              "      <th>Daynum</th>\n",
              "      <th>Wteam</th>\n",
              "      <th>Wscore</th>\n",
              "      <th>Lteam</th>\n",
              "      <th>Lscore</th>\n",
              "      <th>Wloc</th>\n",
              "      <th>Numot</th>\n",
              "    </tr>\n",
              "  </thead>\n",
              "  <tbody>\n",
              "    <tr>\n",
              "      <th>0</th>\n",
              "      <td>1985</td>\n",
              "      <td>20</td>\n",
              "      <td>1228</td>\n",
              "      <td>81</td>\n",
              "      <td>1328</td>\n",
              "      <td>64</td>\n",
              "      <td>N</td>\n",
              "      <td>0</td>\n",
              "    </tr>\n",
              "    <tr>\n",
              "      <th>1</th>\n",
              "      <td>1985</td>\n",
              "      <td>25</td>\n",
              "      <td>1106</td>\n",
              "      <td>77</td>\n",
              "      <td>1354</td>\n",
              "      <td>70</td>\n",
              "      <td>H</td>\n",
              "      <td>0</td>\n",
              "    </tr>\n",
              "    <tr>\n",
              "      <th>2</th>\n",
              "      <td>1985</td>\n",
              "      <td>25</td>\n",
              "      <td>1112</td>\n",
              "      <td>63</td>\n",
              "      <td>1223</td>\n",
              "      <td>56</td>\n",
              "      <td>H</td>\n",
              "      <td>0</td>\n",
              "    </tr>\n",
              "    <tr>\n",
              "      <th>3</th>\n",
              "      <td>1985</td>\n",
              "      <td>25</td>\n",
              "      <td>1165</td>\n",
              "      <td>70</td>\n",
              "      <td>1432</td>\n",
              "      <td>54</td>\n",
              "      <td>H</td>\n",
              "      <td>0</td>\n",
              "    </tr>\n",
              "    <tr>\n",
              "      <th>4</th>\n",
              "      <td>1985</td>\n",
              "      <td>25</td>\n",
              "      <td>1192</td>\n",
              "      <td>86</td>\n",
              "      <td>1447</td>\n",
              "      <td>74</td>\n",
              "      <td>H</td>\n",
              "      <td>0</td>\n",
              "    </tr>\n",
              "  </tbody>\n",
              "</table>\n",
              "</div>"
            ],
            "text/plain": [
              "   Season  Daynum  Wteam  Wscore  Lteam  Lscore Wloc  Numot\n",
              "0    1985      20   1228      81   1328      64    N      0\n",
              "1    1985      25   1106      77   1354      70    H      0\n",
              "2    1985      25   1112      63   1223      56    H      0\n",
              "3    1985      25   1165      70   1432      54    H      0\n",
              "4    1985      25   1192      86   1447      74    H      0"
            ]
          },
          "metadata": {},
          "execution_count": 7
        }
      ]
    },
    {
      "cell_type": "code",
      "metadata": {
        "colab": {
          "base_uri": "https://localhost:8080/"
        },
        "id": "aPQqawM7SH0y",
        "outputId": "f1854bfe-1762-4219-883e-6ae6d0149c98"
      },
      "source": [
        "print(df)"
      ],
      "execution_count": null,
      "outputs": [
        {
          "output_type": "stream",
          "name": "stdout",
          "text": [
            "        Season  Daynum  Wteam  Wscore  Lteam  Lscore Wloc  Numot\n",
            "0         1985      20   1228      81   1328      64    N      0\n",
            "1         1985      25   1106      77   1354      70    H      0\n",
            "2         1985      25   1112      63   1223      56    H      0\n",
            "3         1985      25   1165      70   1432      54    H      0\n",
            "4         1985      25   1192      86   1447      74    H      0\n",
            "...        ...     ...    ...     ...    ...     ...  ...    ...\n",
            "145284    2016     132   1114      70   1419      50    N      0\n",
            "145285    2016     132   1163      72   1272      58    N      0\n",
            "145286    2016     132   1246      82   1401      77    N      1\n",
            "145287    2016     132   1277      66   1345      62    N      0\n",
            "145288    2016     132   1386      87   1433      74    N      0\n",
            "\n",
            "[145289 rows x 8 columns]\n"
          ]
        }
      ]
    },
    {
      "cell_type": "code",
      "metadata": {
        "colab": {
          "base_uri": "https://localhost:8080/",
          "height": 424
        },
        "id": "rWC-PUFDSjDD",
        "outputId": "0006a6e1-a22d-42cc-9d6c-e29d9939f078"
      },
      "source": [
        "df"
      ],
      "execution_count": null,
      "outputs": [
        {
          "output_type": "execute_result",
          "data": {
            "text/html": [
              "<div>\n",
              "<style scoped>\n",
              "    .dataframe tbody tr th:only-of-type {\n",
              "        vertical-align: middle;\n",
              "    }\n",
              "\n",
              "    .dataframe tbody tr th {\n",
              "        vertical-align: top;\n",
              "    }\n",
              "\n",
              "    .dataframe thead th {\n",
              "        text-align: right;\n",
              "    }\n",
              "</style>\n",
              "<table border=\"1\" class=\"dataframe\">\n",
              "  <thead>\n",
              "    <tr style=\"text-align: right;\">\n",
              "      <th></th>\n",
              "      <th>Season</th>\n",
              "      <th>Daynum</th>\n",
              "      <th>Wteam</th>\n",
              "      <th>Wscore</th>\n",
              "      <th>Lteam</th>\n",
              "      <th>Lscore</th>\n",
              "      <th>Wloc</th>\n",
              "      <th>Numot</th>\n",
              "    </tr>\n",
              "  </thead>\n",
              "  <tbody>\n",
              "    <tr>\n",
              "      <th>0</th>\n",
              "      <td>1985</td>\n",
              "      <td>20</td>\n",
              "      <td>1228</td>\n",
              "      <td>81</td>\n",
              "      <td>1328</td>\n",
              "      <td>64</td>\n",
              "      <td>N</td>\n",
              "      <td>0</td>\n",
              "    </tr>\n",
              "    <tr>\n",
              "      <th>1</th>\n",
              "      <td>1985</td>\n",
              "      <td>25</td>\n",
              "      <td>1106</td>\n",
              "      <td>77</td>\n",
              "      <td>1354</td>\n",
              "      <td>70</td>\n",
              "      <td>H</td>\n",
              "      <td>0</td>\n",
              "    </tr>\n",
              "    <tr>\n",
              "      <th>2</th>\n",
              "      <td>1985</td>\n",
              "      <td>25</td>\n",
              "      <td>1112</td>\n",
              "      <td>63</td>\n",
              "      <td>1223</td>\n",
              "      <td>56</td>\n",
              "      <td>H</td>\n",
              "      <td>0</td>\n",
              "    </tr>\n",
              "    <tr>\n",
              "      <th>3</th>\n",
              "      <td>1985</td>\n",
              "      <td>25</td>\n",
              "      <td>1165</td>\n",
              "      <td>70</td>\n",
              "      <td>1432</td>\n",
              "      <td>54</td>\n",
              "      <td>H</td>\n",
              "      <td>0</td>\n",
              "    </tr>\n",
              "    <tr>\n",
              "      <th>4</th>\n",
              "      <td>1985</td>\n",
              "      <td>25</td>\n",
              "      <td>1192</td>\n",
              "      <td>86</td>\n",
              "      <td>1447</td>\n",
              "      <td>74</td>\n",
              "      <td>H</td>\n",
              "      <td>0</td>\n",
              "    </tr>\n",
              "    <tr>\n",
              "      <th>...</th>\n",
              "      <td>...</td>\n",
              "      <td>...</td>\n",
              "      <td>...</td>\n",
              "      <td>...</td>\n",
              "      <td>...</td>\n",
              "      <td>...</td>\n",
              "      <td>...</td>\n",
              "      <td>...</td>\n",
              "    </tr>\n",
              "    <tr>\n",
              "      <th>145284</th>\n",
              "      <td>2016</td>\n",
              "      <td>132</td>\n",
              "      <td>1114</td>\n",
              "      <td>70</td>\n",
              "      <td>1419</td>\n",
              "      <td>50</td>\n",
              "      <td>N</td>\n",
              "      <td>0</td>\n",
              "    </tr>\n",
              "    <tr>\n",
              "      <th>145285</th>\n",
              "      <td>2016</td>\n",
              "      <td>132</td>\n",
              "      <td>1163</td>\n",
              "      <td>72</td>\n",
              "      <td>1272</td>\n",
              "      <td>58</td>\n",
              "      <td>N</td>\n",
              "      <td>0</td>\n",
              "    </tr>\n",
              "    <tr>\n",
              "      <th>145286</th>\n",
              "      <td>2016</td>\n",
              "      <td>132</td>\n",
              "      <td>1246</td>\n",
              "      <td>82</td>\n",
              "      <td>1401</td>\n",
              "      <td>77</td>\n",
              "      <td>N</td>\n",
              "      <td>1</td>\n",
              "    </tr>\n",
              "    <tr>\n",
              "      <th>145287</th>\n",
              "      <td>2016</td>\n",
              "      <td>132</td>\n",
              "      <td>1277</td>\n",
              "      <td>66</td>\n",
              "      <td>1345</td>\n",
              "      <td>62</td>\n",
              "      <td>N</td>\n",
              "      <td>0</td>\n",
              "    </tr>\n",
              "    <tr>\n",
              "      <th>145288</th>\n",
              "      <td>2016</td>\n",
              "      <td>132</td>\n",
              "      <td>1386</td>\n",
              "      <td>87</td>\n",
              "      <td>1433</td>\n",
              "      <td>74</td>\n",
              "      <td>N</td>\n",
              "      <td>0</td>\n",
              "    </tr>\n",
              "  </tbody>\n",
              "</table>\n",
              "<p>145289 rows × 8 columns</p>\n",
              "</div>"
            ],
            "text/plain": [
              "        Season  Daynum  Wteam  Wscore  Lteam  Lscore Wloc  Numot\n",
              "0         1985      20   1228      81   1328      64    N      0\n",
              "1         1985      25   1106      77   1354      70    H      0\n",
              "2         1985      25   1112      63   1223      56    H      0\n",
              "3         1985      25   1165      70   1432      54    H      0\n",
              "4         1985      25   1192      86   1447      74    H      0\n",
              "...        ...     ...    ...     ...    ...     ...  ...    ...\n",
              "145284    2016     132   1114      70   1419      50    N      0\n",
              "145285    2016     132   1163      72   1272      58    N      0\n",
              "145286    2016     132   1246      82   1401      77    N      1\n",
              "145287    2016     132   1277      66   1345      62    N      0\n",
              "145288    2016     132   1386      87   1433      74    N      0\n",
              "\n",
              "[145289 rows x 8 columns]"
            ]
          },
          "metadata": {},
          "execution_count": 9
        }
      ]
    },
    {
      "cell_type": "code",
      "metadata": {
        "colab": {
          "base_uri": "https://localhost:8080/"
        },
        "id": "muxXe1PkSj_A",
        "outputId": "8319a380-7b21-49ac-bcd6-f8798a206684"
      },
      "source": [
        "a=1\n",
        "b=2\n",
        "c=a+b\n",
        "print(c)\n",
        "print(a)"
      ],
      "execution_count": null,
      "outputs": [
        {
          "output_type": "stream",
          "name": "stdout",
          "text": [
            "3\n",
            "1\n"
          ]
        }
      ]
    },
    {
      "cell_type": "code",
      "metadata": {
        "colab": {
          "base_uri": "https://localhost:8080/"
        },
        "id": "T_XzMyfASzHW",
        "outputId": "93363a04-7987-4e6c-d5f0-fd0303877b1a"
      },
      "source": [
        "print(df.head())"
      ],
      "execution_count": null,
      "outputs": [
        {
          "output_type": "stream",
          "name": "stdout",
          "text": [
            "   Season  Daynum  Wteam  Wscore  Lteam  Lscore Wloc  Numot\n",
            "0    1985      20   1228      81   1328      64    N      0\n",
            "1    1985      25   1106      77   1354      70    H      0\n",
            "2    1985      25   1112      63   1223      56    H      0\n",
            "3    1985      25   1165      70   1432      54    H      0\n",
            "4    1985      25   1192      86   1447      74    H      0\n"
          ]
        }
      ]
    },
    {
      "cell_type": "code",
      "metadata": {
        "colab": {
          "base_uri": "https://localhost:8080/"
        },
        "id": "qoEFtdzcTWXZ",
        "outputId": "a8410ed0-1c58-4318-fdac-1d1e39bb1971"
      },
      "source": [
        "print(df.tail())"
      ],
      "execution_count": null,
      "outputs": [
        {
          "output_type": "stream",
          "name": "stdout",
          "text": [
            "        Season  Daynum  Wteam  Wscore  Lteam  Lscore Wloc  Numot\n",
            "145284    2016     132   1114      70   1419      50    N      0\n",
            "145285    2016     132   1163      72   1272      58    N      0\n",
            "145286    2016     132   1246      82   1401      77    N      1\n",
            "145287    2016     132   1277      66   1345      62    N      0\n",
            "145288    2016     132   1386      87   1433      74    N      0\n"
          ]
        }
      ]
    },
    {
      "cell_type": "code",
      "metadata": {
        "colab": {
          "base_uri": "https://localhost:8080/"
        },
        "id": "nbjKNRTsTXx6",
        "outputId": "d934b2fc-e47c-4ba8-8cbe-17dc75631798"
      },
      "source": [
        "print(df.info())"
      ],
      "execution_count": null,
      "outputs": [
        {
          "output_type": "stream",
          "name": "stdout",
          "text": [
            "<class 'pandas.core.frame.DataFrame'>\n",
            "RangeIndex: 145289 entries, 0 to 145288\n",
            "Data columns (total 8 columns):\n",
            " #   Column  Non-Null Count   Dtype \n",
            "---  ------  --------------   ----- \n",
            " 0   Season  145289 non-null  int64 \n",
            " 1   Daynum  145289 non-null  int64 \n",
            " 2   Wteam   145289 non-null  int64 \n",
            " 3   Wscore  145289 non-null  int64 \n",
            " 4   Lteam   145289 non-null  int64 \n",
            " 5   Lscore  145289 non-null  int64 \n",
            " 6   Wloc    145289 non-null  object\n",
            " 7   Numot   145289 non-null  int64 \n",
            "dtypes: int64(7), object(1)\n",
            "memory usage: 8.9+ MB\n",
            "None\n"
          ]
        }
      ]
    },
    {
      "cell_type": "code",
      "metadata": {
        "colab": {
          "base_uri": "https://localhost:8080/"
        },
        "id": "8PO2rR8gThV0",
        "outputId": "d7c6c7e3-492f-4734-e666-6ac6230f13c7"
      },
      "source": [
        "print(df.describe())"
      ],
      "execution_count": null,
      "outputs": [
        {
          "output_type": "stream",
          "name": "stdout",
          "text": [
            "              Season         Daynum  ...         Lscore          Numot\n",
            "count  145289.000000  145289.000000  ...  145289.000000  145289.000000\n",
            "mean     2001.574834      75.223816  ...      64.497009       0.044387\n",
            "std         9.233342      33.287418  ...      11.380625       0.247819\n",
            "min      1985.000000       0.000000  ...      20.000000       0.000000\n",
            "25%      1994.000000      47.000000  ...      57.000000       0.000000\n",
            "50%      2002.000000      78.000000  ...      64.000000       0.000000\n",
            "75%      2010.000000     103.000000  ...      72.000000       0.000000\n",
            "max      2016.000000     132.000000  ...     150.000000       6.000000\n",
            "\n",
            "[8 rows x 7 columns]\n"
          ]
        }
      ]
    },
    {
      "cell_type": "code",
      "metadata": {
        "colab": {
          "base_uri": "https://localhost:8080/"
        },
        "id": "Lt1S0VUXU2AF",
        "outputId": "6872ebd8-d17b-4022-e18b-57960c6dad98"
      },
      "source": [
        "print(df.max())"
      ],
      "execution_count": null,
      "outputs": [
        {
          "output_type": "stream",
          "name": "stdout",
          "text": [
            "Season    2016\n",
            "Daynum     132\n",
            "Wteam     1464\n",
            "Wscore     186\n",
            "Lteam     1464\n",
            "Lscore     150\n",
            "Wloc         N\n",
            "Numot        6\n",
            "dtype: object\n"
          ]
        }
      ]
    },
    {
      "cell_type": "code",
      "metadata": {
        "colab": {
          "base_uri": "https://localhost:8080/"
        },
        "id": "hTaWZLjAVUQ3",
        "outputId": "4d4762a9-e1dc-4a53-8f85-9b680e92889c"
      },
      "source": [
        "print(df.min())"
      ],
      "execution_count": null,
      "outputs": [
        {
          "output_type": "stream",
          "name": "stdout",
          "text": [
            "Season    1985\n",
            "Daynum       0\n",
            "Wteam     1101\n",
            "Wscore      34\n",
            "Lteam     1101\n",
            "Lscore      20\n",
            "Wloc         A\n",
            "Numot        0\n",
            "dtype: object\n"
          ]
        }
      ]
    },
    {
      "cell_type": "code",
      "metadata": {
        "colab": {
          "base_uri": "https://localhost:8080/",
          "height": 206
        },
        "id": "bBXJjx8bVWuG",
        "outputId": "52a189af-2546-40d3-8ba1-dce89eac2fb9"
      },
      "source": [
        "df.head()"
      ],
      "execution_count": null,
      "outputs": [
        {
          "output_type": "execute_result",
          "data": {
            "text/html": [
              "<div>\n",
              "<style scoped>\n",
              "    .dataframe tbody tr th:only-of-type {\n",
              "        vertical-align: middle;\n",
              "    }\n",
              "\n",
              "    .dataframe tbody tr th {\n",
              "        vertical-align: top;\n",
              "    }\n",
              "\n",
              "    .dataframe thead th {\n",
              "        text-align: right;\n",
              "    }\n",
              "</style>\n",
              "<table border=\"1\" class=\"dataframe\">\n",
              "  <thead>\n",
              "    <tr style=\"text-align: right;\">\n",
              "      <th></th>\n",
              "      <th>Season</th>\n",
              "      <th>Daynum</th>\n",
              "      <th>Wteam</th>\n",
              "      <th>Wscore</th>\n",
              "      <th>Lteam</th>\n",
              "      <th>Lscore</th>\n",
              "      <th>Wloc</th>\n",
              "      <th>Numot</th>\n",
              "    </tr>\n",
              "  </thead>\n",
              "  <tbody>\n",
              "    <tr>\n",
              "      <th>0</th>\n",
              "      <td>1985</td>\n",
              "      <td>20</td>\n",
              "      <td>1228</td>\n",
              "      <td>81</td>\n",
              "      <td>1328</td>\n",
              "      <td>64</td>\n",
              "      <td>N</td>\n",
              "      <td>0</td>\n",
              "    </tr>\n",
              "    <tr>\n",
              "      <th>1</th>\n",
              "      <td>1985</td>\n",
              "      <td>25</td>\n",
              "      <td>1106</td>\n",
              "      <td>77</td>\n",
              "      <td>1354</td>\n",
              "      <td>70</td>\n",
              "      <td>H</td>\n",
              "      <td>0</td>\n",
              "    </tr>\n",
              "    <tr>\n",
              "      <th>2</th>\n",
              "      <td>1985</td>\n",
              "      <td>25</td>\n",
              "      <td>1112</td>\n",
              "      <td>63</td>\n",
              "      <td>1223</td>\n",
              "      <td>56</td>\n",
              "      <td>H</td>\n",
              "      <td>0</td>\n",
              "    </tr>\n",
              "    <tr>\n",
              "      <th>3</th>\n",
              "      <td>1985</td>\n",
              "      <td>25</td>\n",
              "      <td>1165</td>\n",
              "      <td>70</td>\n",
              "      <td>1432</td>\n",
              "      <td>54</td>\n",
              "      <td>H</td>\n",
              "      <td>0</td>\n",
              "    </tr>\n",
              "    <tr>\n",
              "      <th>4</th>\n",
              "      <td>1985</td>\n",
              "      <td>25</td>\n",
              "      <td>1192</td>\n",
              "      <td>86</td>\n",
              "      <td>1447</td>\n",
              "      <td>74</td>\n",
              "      <td>H</td>\n",
              "      <td>0</td>\n",
              "    </tr>\n",
              "  </tbody>\n",
              "</table>\n",
              "</div>"
            ],
            "text/plain": [
              "   Season  Daynum  Wteam  Wscore  Lteam  Lscore Wloc  Numot\n",
              "0    1985      20   1228      81   1328      64    N      0\n",
              "1    1985      25   1106      77   1354      70    H      0\n",
              "2    1985      25   1112      63   1223      56    H      0\n",
              "3    1985      25   1165      70   1432      54    H      0\n",
              "4    1985      25   1192      86   1447      74    H      0"
            ]
          },
          "metadata": {},
          "execution_count": 20
        }
      ]
    },
    {
      "cell_type": "code",
      "metadata": {
        "colab": {
          "base_uri": "https://localhost:8080/"
        },
        "id": "bUr41mMgZnAo",
        "outputId": "71f67cb7-19c2-4d49-e6a3-2c07defe37ed"
      },
      "source": [
        "df.Wteam"
      ],
      "execution_count": null,
      "outputs": [
        {
          "output_type": "execute_result",
          "data": {
            "text/plain": [
              "0         1228\n",
              "1         1106\n",
              "2         1112\n",
              "3         1165\n",
              "4         1192\n",
              "          ... \n",
              "145284    1114\n",
              "145285    1163\n",
              "145286    1246\n",
              "145287    1277\n",
              "145288    1386\n",
              "Name: Wteam, Length: 145289, dtype: int64"
            ]
          },
          "metadata": {},
          "execution_count": 21
        }
      ]
    },
    {
      "cell_type": "code",
      "metadata": {
        "colab": {
          "base_uri": "https://localhost:8080/"
        },
        "id": "iKCsm_2zZonT",
        "outputId": "9f38adbe-68bc-4d98-cd9c-6423b13a8943"
      },
      "source": [
        "df.Wscore"
      ],
      "execution_count": null,
      "outputs": [
        {
          "output_type": "execute_result",
          "data": {
            "text/plain": [
              "0         81\n",
              "1         77\n",
              "2         63\n",
              "3         70\n",
              "4         86\n",
              "          ..\n",
              "145284    70\n",
              "145285    72\n",
              "145286    82\n",
              "145287    66\n",
              "145288    87\n",
              "Name: Wscore, Length: 145289, dtype: int64"
            ]
          },
          "metadata": {},
          "execution_count": 22
        }
      ]
    },
    {
      "cell_type": "code",
      "metadata": {
        "colab": {
          "base_uri": "https://localhost:8080/"
        },
        "id": "5wdamCD1Z2fO",
        "outputId": "ec342126-8697-4251-eea6-786cd2274168"
      },
      "source": [
        "df.Wteam[100]"
      ],
      "execution_count": null,
      "outputs": [
        {
          "output_type": "execute_result",
          "data": {
            "text/plain": [
              "1409"
            ]
          },
          "metadata": {},
          "execution_count": 24
        }
      ]
    },
    {
      "cell_type": "code",
      "metadata": {
        "colab": {
          "base_uri": "https://localhost:8080/"
        },
        "id": "pl3z-2JzaBXb",
        "outputId": "d4c3032f-de97-46de-9a66-bf25a839d59a"
      },
      "source": [
        "df.Wteam[0:5]"
      ],
      "execution_count": null,
      "outputs": [
        {
          "output_type": "execute_result",
          "data": {
            "text/plain": [
              "0    1228\n",
              "1    1106\n",
              "2    1112\n",
              "3    1165\n",
              "4    1192\n",
              "Name: Wteam, dtype: int64"
            ]
          },
          "metadata": {},
          "execution_count": 25
        }
      ]
    },
    {
      "cell_type": "code",
      "metadata": {
        "colab": {
          "base_uri": "https://localhost:8080/"
        },
        "id": "nGaDyqfSaGBW",
        "outputId": "799ad142-9a65-43ae-8f31-78d3868a554d"
      },
      "source": [
        "df['Wteam']"
      ],
      "execution_count": null,
      "outputs": [
        {
          "output_type": "execute_result",
          "data": {
            "text/plain": [
              "0         1228\n",
              "1         1106\n",
              "2         1112\n",
              "3         1165\n",
              "4         1192\n",
              "          ... \n",
              "145284    1114\n",
              "145285    1163\n",
              "145286    1246\n",
              "145287    1277\n",
              "145288    1386\n",
              "Name: Wteam, Length: 145289, dtype: int64"
            ]
          },
          "metadata": {},
          "execution_count": 26
        }
      ]
    },
    {
      "cell_type": "code",
      "metadata": {
        "colab": {
          "base_uri": "https://localhost:8080/"
        },
        "id": "5KhcmMoiaKrJ",
        "outputId": "e6a66dcf-33e6-42ce-e0db-626ee7417072"
      },
      "source": [
        "print(df.Wteam)\n",
        "print(df.Wteam.max())\n",
        "print(df.Wteam[0])\n",
        "print(df.Wteam[0:5])\n",
        "print(df.Wteam[0:5].max())"
      ],
      "execution_count": null,
      "outputs": [
        {
          "output_type": "stream",
          "name": "stdout",
          "text": [
            "0         1228\n",
            "1         1106\n",
            "2         1112\n",
            "3         1165\n",
            "4         1192\n",
            "          ... \n",
            "145284    1114\n",
            "145285    1163\n",
            "145286    1246\n",
            "145287    1277\n",
            "145288    1386\n",
            "Name: Wteam, Length: 145289, dtype: int64\n",
            "1464\n",
            "1228\n",
            "0    1228\n",
            "1    1106\n",
            "2    1112\n",
            "3    1165\n",
            "4    1192\n",
            "Name: Wteam, dtype: int64\n",
            "1228\n"
          ]
        }
      ]
    },
    {
      "cell_type": "code",
      "metadata": {
        "colab": {
          "base_uri": "https://localhost:8080/"
        },
        "id": "JiMgEbZfavBJ",
        "outputId": "acb2a123-757f-4fe6-ceb3-0b813891129f"
      },
      "source": [
        "df=pd.DataFrame(\n",
        "    {\"AAA\":[4,5,6,7],\n",
        "     \"BBB\":[10,20,30,40],\n",
        "     \"CCC\":[100,50,-30,-50]}\n",
        ")\n",
        "\n",
        "print(df)"
      ],
      "execution_count": null,
      "outputs": [
        {
          "output_type": "stream",
          "name": "stdout",
          "text": [
            "   AAA  BBB  CCC\n",
            "0    4   10  100\n",
            "1    5   20   50\n",
            "2    6   30  -30\n",
            "3    7   40  -50\n"
          ]
        }
      ]
    },
    {
      "cell_type": "code",
      "metadata": {
        "colab": {
          "base_uri": "https://localhost:8080/"
        },
        "id": "jYpY6Pb9brJY",
        "outputId": "69e56b71-9c20-4a47-8a2f-65423fd2523b"
      },
      "source": [
        "df=pd.DataFrame(\n",
        "    {\"AAA\":[4,5,6,7],\n",
        "     \"BBB\":[10,20,30,40],\n",
        "     \"CCC\":[100,50,-30,-50]}\n",
        ")\n",
        "\n",
        "print(df)\n",
        "\n",
        "mask=pd.Series([True,False,True,False])\n",
        "print(df[mask])\n",
        "\n",
        "df.loc[mask,'BBB']=-1   # mask : 조건\n",
        "print(df)"
      ],
      "execution_count": null,
      "outputs": [
        {
          "output_type": "stream",
          "name": "stdout",
          "text": [
            "   AAA  BBB  CCC\n",
            "0    4   10  100\n",
            "1    5   20   50\n",
            "2    6   30  -30\n",
            "3    7   40  -50\n",
            "   AAA  BBB  CCC\n",
            "0    4   10  100\n",
            "2    6   30  -30\n",
            "   AAA  BBB  CCC\n",
            "0    4   -1  100\n",
            "1    5   20   50\n",
            "2    6   -1  -30\n",
            "3    7   40  -50\n"
          ]
        }
      ]
    },
    {
      "cell_type": "code",
      "metadata": {
        "colab": {
          "base_uri": "https://localhost:8080/"
        },
        "id": "oDNwCiwxZ-qA",
        "outputId": "615b1419-4f73-4900-9f47-d1db0e3e4571"
      },
      "source": [
        "import numpy as np\n",
        "\n",
        "a=np.arange(6)\n",
        "mask=np.array([0,0,0,1,1,1])\n",
        "print(a*mask)"
      ],
      "execution_count": null,
      "outputs": [
        {
          "output_type": "stream",
          "name": "stdout",
          "text": [
            "[0 0 0 3 4 5]\n"
          ]
        }
      ]
    },
    {
      "cell_type": "code",
      "metadata": {
        "colab": {
          "base_uri": "https://localhost:8080/"
        },
        "id": "hEWsSgS2coBE",
        "outputId": "b3d63365-5220-4b89-ca81-a8ffeb2b597b"
      },
      "source": [
        "df=pd.DataFrame(\n",
        "    {\"AAA\":[4,5,6,7],\n",
        "     \"BBB\":[10,20,30,40],\n",
        "     \"CCC\":[100,50,-30,-50]}\n",
        ")\n",
        "\n",
        "print(df)\n",
        "\n",
        "mask = np.array([0,2])\n",
        "print(df.loc[mask])\n",
        "\n",
        "df.loc[mask,'BBB']=-1\n",
        "print(df)"
      ],
      "execution_count": null,
      "outputs": [
        {
          "output_type": "stream",
          "name": "stdout",
          "text": [
            "   AAA  BBB  CCC\n",
            "0    4   10  100\n",
            "1    5   20   50\n",
            "2    6   30  -30\n",
            "3    7   40  -50\n",
            "   AAA  BBB  CCC\n",
            "0    4   10  100\n",
            "2    6   30  -30\n",
            "   AAA  BBB  CCC\n",
            "0    4   -1  100\n",
            "1    5   20   50\n",
            "2    6   -1  -30\n",
            "3    7   40  -50\n"
          ]
        }
      ]
    },
    {
      "cell_type": "code",
      "metadata": {
        "colab": {
          "base_uri": "https://localhost:8080/"
        },
        "id": "r7rsnGQ5esLI",
        "outputId": "4575765b-8a25-4313-b5dc-944ea1133d2d"
      },
      "source": [
        "df=pd.DataFrame(\n",
        "    {\"AAA\":[4,5,6,7],\n",
        "     \"BBB\":[10,20,30,40],\n",
        "     \"CCC\":[100,50,-30,-50]}\n",
        ")\n",
        "\n",
        "print(df)\n",
        "print(df.AAA)\n",
        "print(df.AAA>5)"
      ],
      "execution_count": null,
      "outputs": [
        {
          "output_type": "stream",
          "name": "stdout",
          "text": [
            "   AAA  BBB  CCC\n",
            "0    4   10  100\n",
            "1    5   20   50\n",
            "2    6   30  -30\n",
            "3    7   40  -50\n",
            "0    4\n",
            "1    5\n",
            "2    6\n",
            "3    7\n",
            "Name: AAA, dtype: int64\n",
            "0    False\n",
            "1    False\n",
            "2     True\n",
            "3     True\n",
            "Name: AAA, dtype: bool\n"
          ]
        }
      ]
    },
    {
      "cell_type": "code",
      "metadata": {
        "colab": {
          "base_uri": "https://localhost:8080/"
        },
        "id": "AnIsVpb1TZ02",
        "outputId": "cbe89242-779b-4c75-9e6a-ebc2ee4cce3f"
      },
      "source": [
        "# print(df.AAA%2==0)\n",
        "# df.CCC[df.AAA%2==0]=0\n",
        "# print(df)\n",
        "\n",
        "df.loc[df.AAA%2==0,'CCC']=0\n",
        "print(df)"
      ],
      "execution_count": null,
      "outputs": [
        {
          "output_type": "stream",
          "name": "stdout",
          "text": [
            "   AAA  BBB  CCC\n",
            "0    4   10    0\n",
            "1    5   20   50\n",
            "2    6   30    0\n",
            "3    7   40  -50\n"
          ]
        }
      ]
    },
    {
      "cell_type": "code",
      "metadata": {
        "id": "m0JXHWJup_S7"
      },
      "source": [
        "# df.loc[1:3, 'BBB'] = 0\n",
        "\n",
        "# df.iloc[1:4, 'BBB'] = 0"
      ],
      "execution_count": null,
      "outputs": []
    },
    {
      "cell_type": "code",
      "metadata": {
        "colab": {
          "base_uri": "https://localhost:8080/"
        },
        "id": "U0LdyOkSxTN4",
        "outputId": "1ec2d56b-ad3f-4360-e639-c63672972757"
      },
      "source": [
        "df=pd.DataFrame(\n",
        "    {\"AAA\":[4,5,6,7],\n",
        "     \"BBB\":[10,20,30,40],\n",
        "     \"CCC\":[100,50,-30,-50]}\n",
        ")\n",
        "\n",
        "df.loc[1:3, 'BBB'] = 0\n",
        "print(df)"
      ],
      "execution_count": null,
      "outputs": [
        {
          "output_type": "stream",
          "name": "stdout",
          "text": [
            "   AAA  BBB  CCC\n",
            "0    4   10  100\n",
            "1    5    0   50\n",
            "2    6    0  -30\n",
            "3    7    0  -50\n"
          ]
        }
      ]
    },
    {
      "cell_type": "code",
      "metadata": {
        "colab": {
          "base_uri": "https://localhost:8080/"
        },
        "id": "6xIdLPJrxZSX",
        "outputId": "979988e0-e3aa-4d01-f35f-1af525341b13"
      },
      "source": [
        "df=pd.DataFrame(\n",
        "    {\"AAA\":[4,5,6,7],\n",
        "     \"BBB\":[10,20,30,40],\n",
        "     \"CCC\":[100,50,-30,-50]}\n",
        ")\n",
        "\n",
        "df.iloc[1:4, 1] = 0\n",
        "print(df)"
      ],
      "execution_count": null,
      "outputs": [
        {
          "output_type": "stream",
          "name": "stdout",
          "text": [
            "   AAA  BBB  CCC\n",
            "0    4   10  100\n",
            "1    5    0   50\n",
            "2    6    0  -30\n",
            "3    7    0  -50\n"
          ]
        }
      ]
    },
    {
      "cell_type": "code",
      "metadata": {
        "colab": {
          "base_uri": "https://localhost:8080/"
        },
        "id": "fKLsZWzSgsTD",
        "outputId": "49e78902-5eee-4841-9d6e-5a59b38b2670"
      },
      "source": [
        "df=pd.DataFrame(\n",
        "    {\"AAA\":[4,5,6,7],\n",
        "     \"BBB\":[10,20,30,40],\n",
        "     \"CCC\":[100,50,-30,-50]}\n",
        ")\n",
        "\n",
        "\n",
        "df.loc[df.AAA%2==1,'CCC']=df.CCC*2\n",
        "print(df)"
      ],
      "execution_count": null,
      "outputs": [
        {
          "output_type": "stream",
          "name": "stdout",
          "text": [
            "   AAA  BBB  CCC\n",
            "0    4   10  100\n",
            "1    5   20  100\n",
            "2    6   30  -30\n",
            "3    7   40 -100\n"
          ]
        }
      ]
    },
    {
      "cell_type": "markdown",
      "metadata": {
        "id": "BrP48zZOh8Y_"
      },
      "source": [
        "AAA >= 5 그리고 BBB < 40 ---> BBB 를 -1로 셋팅"
      ]
    },
    {
      "cell_type": "code",
      "metadata": {
        "colab": {
          "base_uri": "https://localhost:8080/"
        },
        "id": "jZahETrxhcIb",
        "outputId": "31069f6e-655b-402b-d1c2-bcecfb3ee361"
      },
      "source": [
        "df=pd.DataFrame(\n",
        "    {\"AAA\":[4,5,6,7],\n",
        "     \"BBB\":[10,20,30,40],\n",
        "     \"CCC\":[100,50,-30,-50]}\n",
        ")\n",
        "\n",
        "df.loc[(df.AAA>=5) & (df.BBB < 40),'BBB']=-1\n",
        "print(df)"
      ],
      "execution_count": null,
      "outputs": [
        {
          "output_type": "stream",
          "name": "stdout",
          "text": [
            "   AAA  BBB  CCC\n",
            "0    4   10  100\n",
            "1    5   -1   50\n",
            "2    6   -1  -30\n",
            "3    7   40  -50\n"
          ]
        }
      ]
    },
    {
      "cell_type": "code",
      "metadata": {
        "colab": {
          "base_uri": "https://localhost:8080/"
        },
        "id": "WhPgOg_ziRMS",
        "outputId": "bad91fd8-171a-4b55-f217-20e315ee541f"
      },
      "source": [
        "df=pd.DataFrame(\n",
        "    {\"AAA\":[4,5,6,7],\n",
        "     \"BBB\":[10,20,30,40],\n",
        "     \"CCC\":[100,50,-30,-50]}\n",
        ")\n",
        "\n",
        "df.loc[df.AAA%2==0,['BBB','CCC']]=-1\n",
        "print(df)"
      ],
      "execution_count": null,
      "outputs": [
        {
          "output_type": "stream",
          "name": "stdout",
          "text": [
            "   AAA  BBB  CCC\n",
            "0    4   -1   -1\n",
            "1    5   20   50\n",
            "2    6   -1   -1\n",
            "3    7   40  -50\n"
          ]
        }
      ]
    },
    {
      "cell_type": "code",
      "metadata": {
        "colab": {
          "base_uri": "https://localhost:8080/"
        },
        "id": "BTOMhKyioCXL",
        "outputId": "98ac6060-1fb5-448a-9344-d40530305b26"
      },
      "source": [
        "a=[0,1,2,3,4]\n",
        "if 3 in a:\n",
        "  print(\"existed\")"
      ],
      "execution_count": null,
      "outputs": [
        {
          "output_type": "stream",
          "name": "stdout",
          "text": [
            "existed\n"
          ]
        }
      ]
    },
    {
      "cell_type": "code",
      "metadata": {
        "colab": {
          "base_uri": "https://localhost:8080/"
        },
        "id": "gLZxStxWnawX",
        "outputId": "be1d5708-6e58-4927-b8da-c7ed8c075fff"
      },
      "source": [
        "df=pd.DataFrame(\n",
        "    {\"AAA\":[4,5,6,7],\n",
        "     \"BBB\":[10,20,30,40],\n",
        "     \"CCC\":[100,50,-30,-50]}\n",
        ")\n",
        "\n",
        "df.AAA.isin([4,5,6])"
      ],
      "execution_count": null,
      "outputs": [
        {
          "output_type": "execute_result",
          "data": {
            "text/plain": [
              "0     True\n",
              "1     True\n",
              "2     True\n",
              "3    False\n",
              "Name: AAA, dtype: bool"
            ]
          },
          "metadata": {},
          "execution_count": 52
        }
      ]
    },
    {
      "cell_type": "markdown",
      "metadata": {
        "id": "z420k20ophhr"
      },
      "source": [
        "AAA가 4 또는 7일 경우 BBB 컬럼을 0으로 변환"
      ]
    },
    {
      "cell_type": "code",
      "metadata": {
        "colab": {
          "base_uri": "https://localhost:8080/"
        },
        "id": "bNT3XZ3KonU4",
        "outputId": "efe6a5af-4e31-489e-dec3-5d2189fab0ea"
      },
      "source": [
        "df=pd.DataFrame(\n",
        "    {\"AAA\":[4,5,6,7],\n",
        "     \"BBB\":[10,20,30,40],\n",
        "     \"CCC\":[100,50,-30,-50]}\n",
        ")\n",
        "\n",
        "df.AAA.isin([4,7])\n",
        "df.loc[df.AAA.isin([4,7]),'BBB']=0\n",
        "print(df)"
      ],
      "execution_count": null,
      "outputs": [
        {
          "output_type": "stream",
          "name": "stdout",
          "text": [
            "   AAA  BBB  CCC\n",
            "0    4    0  100\n",
            "1    5   20   50\n",
            "2    6   30  -30\n",
            "3    7    0  -50\n"
          ]
        }
      ]
    },
    {
      "cell_type": "code",
      "metadata": {
        "colab": {
          "base_uri": "https://localhost:8080/",
          "height": 130
        },
        "id": "fKEPY3vapf2W",
        "outputId": "e2888e42-476a-4c30-aa74-4c60c96d0894"
      },
      "source": [
        "df=pd.DataFrame(\n",
        "    {\"AAA\":[4,5,6,7],\n",
        "     \"BBB\":[10,20,30,40],\n",
        "     \"CCC\":[100,50,-30,-50]}\n",
        ")\n",
        "\n",
        "print(df.index.values)\n",
        "df[df.index%2==0]"
      ],
      "execution_count": null,
      "outputs": [
        {
          "output_type": "stream",
          "name": "stdout",
          "text": [
            "[0 1 2 3]\n"
          ]
        },
        {
          "output_type": "execute_result",
          "data": {
            "text/html": [
              "<div>\n",
              "<style scoped>\n",
              "    .dataframe tbody tr th:only-of-type {\n",
              "        vertical-align: middle;\n",
              "    }\n",
              "\n",
              "    .dataframe tbody tr th {\n",
              "        vertical-align: top;\n",
              "    }\n",
              "\n",
              "    .dataframe thead th {\n",
              "        text-align: right;\n",
              "    }\n",
              "</style>\n",
              "<table border=\"1\" class=\"dataframe\">\n",
              "  <thead>\n",
              "    <tr style=\"text-align: right;\">\n",
              "      <th></th>\n",
              "      <th>AAA</th>\n",
              "      <th>BBB</th>\n",
              "      <th>CCC</th>\n",
              "    </tr>\n",
              "  </thead>\n",
              "  <tbody>\n",
              "    <tr>\n",
              "      <th>0</th>\n",
              "      <td>4</td>\n",
              "      <td>10</td>\n",
              "      <td>100</td>\n",
              "    </tr>\n",
              "    <tr>\n",
              "      <th>2</th>\n",
              "      <td>6</td>\n",
              "      <td>30</td>\n",
              "      <td>-30</td>\n",
              "    </tr>\n",
              "  </tbody>\n",
              "</table>\n",
              "</div>"
            ],
            "text/plain": [
              "   AAA  BBB  CCC\n",
              "0    4   10  100\n",
              "2    6   30  -30"
            ]
          },
          "metadata": {},
          "execution_count": 56
        }
      ]
    },
    {
      "cell_type": "code",
      "metadata": {
        "colab": {
          "base_uri": "https://localhost:8080/"
        },
        "id": "Nsk1dq58qV07",
        "outputId": "1aad0a98-b6d2-43e9-e34d-e96ea449128a"
      },
      "source": [
        "df=pd.DataFrame(\n",
        "    {\"AAA\":[4,5,6,7],\n",
        "     \"BBB\":[10,20,30,40],\n",
        "     \"CCC\":[100,50,-30,-50]}\n",
        ")\n",
        "\n",
        "df['abc_CCC']=df['CCC']\n",
        "print(df)"
      ],
      "execution_count": null,
      "outputs": [
        {
          "output_type": "stream",
          "name": "stdout",
          "text": [
            "   AAA  BBB  CCC  abc_CCC\n",
            "0    4   10  100      100\n",
            "1    5   20   50       50\n",
            "2    6   30  -30      -30\n",
            "3    7   40  -50      -50\n"
          ]
        }
      ]
    },
    {
      "cell_type": "code",
      "metadata": {
        "id": "gpS3GLjDq3am"
      },
      "source": [
        "df=pd.DataFrame(\n",
        "    {\"AAA\":[4,5,6,7],\n",
        "     \"BBB\":[10,20,30,40],\n",
        "     \"CCC\":[100,50,-30,-50]}\n",
        ")\n",
        "\n",
        "df['abs_CCC']=df['CCC'].abs()     # copy 하는것\n",
        "print(df)"
      ],
      "execution_count": null,
      "outputs": []
    },
    {
      "cell_type": "code",
      "metadata": {
        "colab": {
          "base_uri": "https://localhost:8080/"
        },
        "id": "8ZN0x3dJqIJf",
        "outputId": "d5502858-e5d2-497f-f7db-def787aab7c7"
      },
      "source": [
        "# 새로운 S열 A+B\n",
        "\n",
        "df=pd.DataFrame(\n",
        "    {\"AAA\":[4,5,6,7],\n",
        "     \"BBB\":[10,20,30,40],\n",
        "     \"CCC\":[100,50,-30,-50]}\n",
        ")\n",
        "\n",
        "# df['S']=df.AAA + df.BBB\n",
        "df['S']=df['AAA']+df['BBB']\n",
        "# df.S=df['AAA']+df['BBB']   # 이건 오류난다!!!\n",
        "print(df)"
      ],
      "execution_count": null,
      "outputs": [
        {
          "output_type": "stream",
          "name": "stdout",
          "text": [
            "   AAA  BBB  CCC   S\n",
            "0    4   10  100  14\n",
            "1    5   20   50  25\n",
            "2    6   30  -30  36\n",
            "3    7   40  -50  47\n"
          ]
        }
      ]
    },
    {
      "cell_type": "code",
      "metadata": {
        "colab": {
          "base_uri": "https://localhost:8080/"
        },
        "id": "_LnS9If4pYZ_",
        "outputId": "b5ec32ab-e728-4760-ba46-6d403c2c6f5b"
      },
      "source": [
        "df=pd.DataFrame(\n",
        "    {\"AAA\":[4,5,6,7],\n",
        "     \"BBB\":[\"남\",\"여\",\"\",\"여\"],\n",
        "     \"CCC\":[100,50,-30,-50]\n",
        "     }\n",
        ")\n",
        "\n",
        "def encode(BBB):\n",
        "  if BBB==\"남\": return 1\n",
        "  if BBB==\"여\": return 0\n",
        "  return -1\n",
        "\n",
        "print(encode(\"남\"))\n",
        "print(encode(\"여\"))\n",
        "print(encode(\"\"))\n",
        "print(encode(\"else\"))\n",
        "\n",
        "df['BBB_encoded']=df[['BBB']].applymap(encode)\n",
        "print(df)\n",
        "\n",
        "new_df=df.drop(columns=\"BBB\")\n",
        "print(new_df)\n",
        "print(df)\n",
        "\n",
        "df.drop(columns=\"BBB\", inplace=True)  \n",
        "print(df)"
      ],
      "execution_count": null,
      "outputs": [
        {
          "output_type": "stream",
          "name": "stdout",
          "text": [
            "1\n",
            "0\n",
            "-1\n",
            "-1\n",
            "   AAA BBB  CCC  BBB_encoded\n",
            "0    4   남  100            1\n",
            "1    5   여   50            0\n",
            "2    6      -30           -1\n",
            "3    7   여  -50            0\n",
            "   AAA  CCC  BBB_encoded\n",
            "0    4  100            1\n",
            "1    5   50            0\n",
            "2    6  -30           -1\n",
            "3    7  -50            0\n",
            "   AAA BBB  CCC  BBB_encoded\n",
            "0    4   남  100            1\n",
            "1    5   여   50            0\n",
            "2    6      -30           -1\n",
            "3    7   여  -50            0\n",
            "   AAA  CCC  BBB_encoded\n",
            "0    4  100            1\n",
            "1    5   50            0\n",
            "2    6  -30           -1\n",
            "3    7  -50            0\n"
          ]
        }
      ]
    },
    {
      "cell_type": "code",
      "metadata": {
        "colab": {
          "base_uri": "https://localhost:8080/"
        },
        "id": "9i_RH773tf5z",
        "outputId": "d68c4f10-30c8-46bc-ee7d-94c7a85fbadb"
      },
      "source": [
        "df=pd.DataFrame(\n",
        "    {\"AAA\":[4,5,6,7],\n",
        "     \"BBB\":[\"남\",\"여\",\"\",\"여\"],\n",
        "     \"CCC\":[100,50,-30,-50]\n",
        "     }\n",
        ")\n",
        "\n",
        "df.drop(columns=[\"BBB\",\"CCC\"],inplace=True)\n",
        "print(df)"
      ],
      "execution_count": null,
      "outputs": [
        {
          "output_type": "stream",
          "name": "stdout",
          "text": [
            "   AAA\n",
            "0    4\n",
            "1    5\n",
            "2    6\n",
            "3    7\n"
          ]
        }
      ]
    },
    {
      "cell_type": "markdown",
      "metadata": {
        "id": "8hO1QD_wyCYR"
      },
      "source": [
        "```\n",
        "inplace=True 는 원래의 df의 열을 없앤채로 만듦\n",
        "inplace=False는 원래의 df를 유지  ---> 이럴 경우 new_df=df.drop(columns=\"BBB\",inplace=False)로 해서 새로운 데이터프레임 만들어준다\n",
        "```"
      ]
    },
    {
      "cell_type": "code",
      "metadata": {
        "colab": {
          "base_uri": "https://localhost:8080/"
        },
        "id": "pb9DlciPvNlW",
        "outputId": "1944c7b8-5eb9-446a-8b13-2a33b6938291"
      },
      "source": [
        "df=pd.DataFrame(\n",
        "    {\"AAA\":[4,5,6,7],\n",
        "     \"BBB\":[10,20,30,40],\n",
        "     \"CCC\":[100,50,-30,-50]}\n",
        ")\n",
        "\n",
        "df.drop(1,inplace=True)\n",
        "print(df)\n",
        "\n",
        "# df.drop(1,inplace=True)\n",
        "# print(df)                       # 힌번더 해주면 오류남 인덱스 1이 없다고"
      ],
      "execution_count": null,
      "outputs": [
        {
          "output_type": "stream",
          "name": "stdout",
          "text": [
            "   AAA  BBB  CCC\n",
            "0    4   10  100\n",
            "2    6   30  -30\n",
            "3    7   40  -50\n"
          ]
        }
      ]
    },
    {
      "cell_type": "code",
      "metadata": {
        "colab": {
          "base_uri": "https://localhost:8080/"
        },
        "id": "-vIfEYzwvu4G",
        "outputId": "a5de6ba7-a529-44d1-956b-6b624aa3f951"
      },
      "source": [
        "df=pd.DataFrame(\n",
        "    {\"AAA\":[4,5,6,7],\n",
        "     \"BBB\":[10,20,30,40],\n",
        "     \"CCC\":[100,50,-30,-50]}\n",
        ")\n",
        "\n",
        "df.drop([1,2],inplace=True)\n",
        "print(df)"
      ],
      "execution_count": null,
      "outputs": [
        {
          "output_type": "stream",
          "name": "stdout",
          "text": [
            "   AAA  BBB  CCC\n",
            "0    4   10  100\n",
            "3    7   40  -50\n"
          ]
        }
      ]
    },
    {
      "cell_type": "code",
      "metadata": {
        "colab": {
          "base_uri": "https://localhost:8080/"
        },
        "id": "0kOq2FuWteEu",
        "outputId": "301e457c-66e2-4a9d-ad11-4d0977ccb637"
      },
      "source": [
        "df=pd.DataFrame(\n",
        "    {\"AAA\":[4,5,6,7],\n",
        "     \"BBB\":[10,20,30,40],\n",
        "     \"CCC\":[100,50,-30,-50]}\n",
        ")\n",
        "\n",
        "df.drop(df[df.AAA%2==0].index,inplace=True)\n",
        "print(df)"
      ],
      "execution_count": null,
      "outputs": [
        {
          "output_type": "stream",
          "name": "stdout",
          "text": [
            "   AAA  BBB  CCC\n",
            "1    5   20   50\n",
            "3    7   40  -50\n"
          ]
        }
      ]
    },
    {
      "cell_type": "code",
      "metadata": {
        "colab": {
          "base_uri": "https://localhost:8080/"
        },
        "id": "aMaNStUF12Uj",
        "outputId": "17503af0-0cb1-4bc6-ffd1-f45d937f52af"
      },
      "source": [
        "df=pd.DataFrame(\n",
        "    {\"AAA\":[4,5,6,7],\n",
        "     \"BBB\":[10,20,30,40],\n",
        "     \"CCC\":[100,50,-30,-50]}\n",
        ")\n",
        "\n",
        "df['float_AAA'] = df.AAA.astype(np.float)\n",
        "print(df)"
      ],
      "execution_count": null,
      "outputs": [
        {
          "output_type": "stream",
          "name": "stdout",
          "text": [
            "   AAA  BBB  CCC  float_AAA;\n",
            "0    4   10  100         4.0\n",
            "1    5   20   50         5.0\n",
            "2    6   30  -30         6.0\n",
            "3    7   40  -50         7.0\n"
          ]
        }
      ]
    },
    {
      "cell_type": "markdown",
      "metadata": {
        "id": "98gn96vA0ry7"
      },
      "source": [
        "```\n",
        "numpy로  0~1 랜덤한 값을 10개 만들고,\n",
        "10개의 값을 가지는 r 컬럼의 dataframe을 만들고\n",
        "5r이라는 r 컬럼에 5배 곱한 컬럼을 새로 만들고\n",
        "cat 이라는 정수값을 하는 컬럼을 만든다.\n",
        "cat 외의 모든 컬럼을 삭제한다.\n",
        "```"
      ]
    },
    {
      "cell_type": "code",
      "metadata": {
        "colab": {
          "base_uri": "https://localhost:8080/"
        },
        "id": "7ST6DtbAxCHZ",
        "outputId": "37989022-0388-4c7d-fe99-70dd67268e1a"
      },
      "source": [
        "import numpy as np\n",
        "import pandas as pd\n",
        "\n",
        "a= np.random.rand(10)\n",
        "print(a)\n",
        "\n",
        "df = pd.DataFrame({\"r\":a})\n",
        "print(df)\n",
        "\n",
        "df['five_r']=df.r*5\n",
        "print(df)\n",
        "\n",
        "df['cat']=df.r.astype(np.int)\n",
        "print(df)\n",
        "\n",
        "df.drop(columns=['r','five_r'],inplace=True)\n",
        "print(df)"
      ],
      "execution_count": null,
      "outputs": [
        {
          "output_type": "stream",
          "name": "stdout",
          "text": [
            "[0.31103585 0.79291231 0.42985689 0.86862053 0.39213851 0.43934833\n",
            " 0.39340797 0.46480597 0.06913467 0.08893443]\n",
            "          r\n",
            "0  0.311036\n",
            "1  0.792912\n",
            "2  0.429857\n",
            "3  0.868621\n",
            "4  0.392139\n",
            "5  0.439348\n",
            "6  0.393408\n",
            "7  0.464806\n",
            "8  0.069135\n",
            "9  0.088934\n",
            "          r    five_r\n",
            "0  0.311036  1.555179\n",
            "1  0.792912  3.964562\n",
            "2  0.429857  2.149284\n",
            "3  0.868621  4.343103\n",
            "4  0.392139  1.960693\n",
            "5  0.439348  2.196742\n",
            "6  0.393408  1.967040\n",
            "7  0.464806  2.324030\n",
            "8  0.069135  0.345673\n",
            "9  0.088934  0.444672\n",
            "          r    five_r  cat\n",
            "0  0.311036  1.555179    0\n",
            "1  0.792912  3.964562    0\n",
            "2  0.429857  2.149284    0\n",
            "3  0.868621  4.343103    0\n",
            "4  0.392139  1.960693    0\n",
            "5  0.439348  2.196742    0\n",
            "6  0.393408  1.967040    0\n",
            "7  0.464806  2.324030    0\n",
            "8  0.069135  0.345673    0\n",
            "9  0.088934  0.444672    0\n",
            "   cat\n",
            "0    0\n",
            "1    0\n",
            "2    0\n",
            "3    0\n",
            "4    0\n",
            "5    0\n",
            "6    0\n",
            "7    0\n",
            "8    0\n",
            "9    0\n"
          ]
        }
      ]
    },
    {
      "cell_type": "code",
      "metadata": {
        "id": "vbsh1CyVwvaa"
      },
      "source": [
        ""
      ],
      "execution_count": null,
      "outputs": []
    },
    {
      "cell_type": "code",
      "metadata": {
        "id": "HBcxJXBWwd-Z"
      },
      "source": [
        ""
      ],
      "execution_count": null,
      "outputs": []
    },
    {
      "cell_type": "code",
      "metadata": {
        "id": "kxomq5eDtPhb"
      },
      "source": [
        ""
      ],
      "execution_count": null,
      "outputs": []
    },
    {
      "cell_type": "code",
      "metadata": {
        "id": "TcPtSCNBtB6Q"
      },
      "source": [
        ""
      ],
      "execution_count": null,
      "outputs": []
    }
  ]
}